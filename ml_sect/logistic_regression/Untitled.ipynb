{
 "cells": [
  {
   "cell_type": "code",
   "execution_count": 31,
   "metadata": {},
   "outputs": [],
   "source": [
    "import numpy as np\n",
    "import pandas as pd\n",
    "import scipy.linalg as sla\n",
    "import matplotlib.pyplot as plt\n",
    "\n",
    "from sklearn.metrics import confusion_matrix,classification_report,precision_score, plot_roc_curve, plot_precision_recall_curve, balanced_accuracy_score\n",
    "from sklearn.metrics import accuracy_score\n",
    "from sklearn import metrics\n"
   ]
  },
  {
   "cell_type": "code",
   "execution_count": 2,
   "metadata": {},
   "outputs": [],
   "source": [
    "def logit(x, w):\n",
    "    return np.dot(x, w)\n",
    "\n",
    "def sigmoid(h):\n",
    "    return 1. / (1 + np.exp(-h))\n",
    "\n",
    "class MyLogisticRegression(object):\n",
    "    def __init__(self):\n",
    "        self.w = None\n",
    "    \n",
    "    def fit(self, X, y, max_iter=100, lr=0.1):\n",
    "        # Принимает на вход X, y и вычисляет веса по данной выборке.\n",
    "        # Множество допустимых классов: {1, -1}\n",
    "        # Не забудьте про фиктивный признак равный 1!\n",
    "        \n",
    "        n, k = X.shape\n",
    "        \n",
    "        if self.w is None:\n",
    "            self.w = np.random.randn(k + 1)\n",
    "        \n",
    "        X_train = np.concatenate((np.ones((n, 1)), X), axis=1)\n",
    "        \n",
    "        losses = []\n",
    "        \n",
    "        for iter_num in range(max_iter):\n",
    "            z = sigmoid(logit(X_train, self.w))\n",
    "            grad = np.dot(X_train.T, (z - y)) / len(y)\n",
    "\n",
    "            self.w -= grad * lr\n",
    "\n",
    "            losses.append(self.__loss(y, z))\n",
    "        \n",
    "        return losses\n",
    "        \n",
    "    def predict_proba(self, X):\n",
    "        # Принимает на вход X и возвращает ответы модели\n",
    "        n, k = X.shape\n",
    "        X_ = np.concatenate((np.ones((n, 1)), X), axis=1)\n",
    "        return sigmoid(logit(X_, self.w))\n",
    "\n",
    "    def predict(self, X, threshold=0.5):\n",
    "        return self.predict_proba(X) >= threshold\n",
    "    \n",
    "    def get_weights(self):\n",
    "        return self.w\n",
    "      \n",
    "    def __loss(self, y, p):\n",
    "        p = np.clip(p, 1e-10, 1 - 1e-10)\n",
    "        return np.mean(y * np.log(p) + (1 - y) * np.log(1 - p))"
   ]
  },
  {
   "cell_type": "code",
   "execution_count": 4,
   "metadata": {},
   "outputs": [
    {
     "name": "stdout",
     "output_type": "stream",
     "text": [
      "<class 'pandas.core.frame.DataFrame'>\n",
      "RangeIndex: 3276 entries, 0 to 3275\n",
      "Data columns (total 10 columns):\n",
      " #   Column           Non-Null Count  Dtype  \n",
      "---  ------           --------------  -----  \n",
      " 0   ph               2785 non-null   float64\n",
      " 1   Hardness         3276 non-null   float64\n",
      " 2   Solids           3276 non-null   float64\n",
      " 3   Chloramines      3276 non-null   float64\n",
      " 4   Sulfate          2495 non-null   float64\n",
      " 5   Conductivity     3276 non-null   float64\n",
      " 6   Organic_carbon   3276 non-null   float64\n",
      " 7   Trihalomethanes  3114 non-null   float64\n",
      " 8   Turbidity        3276 non-null   float64\n",
      " 9   Potability       3276 non-null   int64  \n",
      "dtypes: float64(9), int64(1)\n",
      "memory usage: 256.1 KB\n"
     ]
    }
   ],
   "source": [
    "df = pd.read_csv('water_potability.csv')\n",
    "df.info()"
   ]
  },
  {
   "cell_type": "code",
   "execution_count": 5,
   "metadata": {},
   "outputs": [
    {
     "data": {
      "text/html": [
       "<div>\n",
       "<style scoped>\n",
       "    .dataframe tbody tr th:only-of-type {\n",
       "        vertical-align: middle;\n",
       "    }\n",
       "\n",
       "    .dataframe tbody tr th {\n",
       "        vertical-align: top;\n",
       "    }\n",
       "\n",
       "    .dataframe thead th {\n",
       "        text-align: right;\n",
       "    }\n",
       "</style>\n",
       "<table border=\"1\" class=\"dataframe\">\n",
       "  <thead>\n",
       "    <tr style=\"text-align: right;\">\n",
       "      <th></th>\n",
       "      <th>ph</th>\n",
       "      <th>Hardness</th>\n",
       "      <th>Solids</th>\n",
       "      <th>Chloramines</th>\n",
       "      <th>Sulfate</th>\n",
       "      <th>Conductivity</th>\n",
       "      <th>Organic_carbon</th>\n",
       "      <th>Trihalomethanes</th>\n",
       "      <th>Turbidity</th>\n",
       "      <th>Potability</th>\n",
       "    </tr>\n",
       "  </thead>\n",
       "  <tbody>\n",
       "    <tr>\n",
       "      <th>1896</th>\n",
       "      <td>7.044375</td>\n",
       "      <td>229.603173</td>\n",
       "      <td>12575.279627</td>\n",
       "      <td>7.837778</td>\n",
       "      <td>390.467684</td>\n",
       "      <td>558.176592</td>\n",
       "      <td>15.754785</td>\n",
       "      <td>36.267530</td>\n",
       "      <td>4.276699</td>\n",
       "      <td>1</td>\n",
       "    </tr>\n",
       "    <tr>\n",
       "      <th>1549</th>\n",
       "      <td>8.051022</td>\n",
       "      <td>171.751754</td>\n",
       "      <td>28338.664040</td>\n",
       "      <td>6.392121</td>\n",
       "      <td>319.005071</td>\n",
       "      <td>496.906266</td>\n",
       "      <td>16.192870</td>\n",
       "      <td>91.123219</td>\n",
       "      <td>3.767443</td>\n",
       "      <td>1</td>\n",
       "    </tr>\n",
       "    <tr>\n",
       "      <th>995</th>\n",
       "      <td>8.312380</td>\n",
       "      <td>203.744548</td>\n",
       "      <td>8727.247349</td>\n",
       "      <td>7.456302</td>\n",
       "      <td>NaN</td>\n",
       "      <td>543.392988</td>\n",
       "      <td>15.470400</td>\n",
       "      <td>81.508682</td>\n",
       "      <td>2.988093</td>\n",
       "      <td>0</td>\n",
       "    </tr>\n",
       "    <tr>\n",
       "      <th>456</th>\n",
       "      <td>6.256651</td>\n",
       "      <td>181.072307</td>\n",
       "      <td>16905.801524</td>\n",
       "      <td>11.586151</td>\n",
       "      <td>NaN</td>\n",
       "      <td>481.307052</td>\n",
       "      <td>10.639743</td>\n",
       "      <td>74.557241</td>\n",
       "      <td>4.181051</td>\n",
       "      <td>0</td>\n",
       "    </tr>\n",
       "    <tr>\n",
       "      <th>808</th>\n",
       "      <td>NaN</td>\n",
       "      <td>182.582228</td>\n",
       "      <td>19575.475363</td>\n",
       "      <td>10.048383</td>\n",
       "      <td>424.688994</td>\n",
       "      <td>383.490954</td>\n",
       "      <td>19.482945</td>\n",
       "      <td>76.634798</td>\n",
       "      <td>4.329204</td>\n",
       "      <td>1</td>\n",
       "    </tr>\n",
       "  </tbody>\n",
       "</table>\n",
       "</div>"
      ],
      "text/plain": [
       "            ph    Hardness        Solids  Chloramines     Sulfate  \\\n",
       "1896  7.044375  229.603173  12575.279627     7.837778  390.467684   \n",
       "1549  8.051022  171.751754  28338.664040     6.392121  319.005071   \n",
       "995   8.312380  203.744548   8727.247349     7.456302         NaN   \n",
       "456   6.256651  181.072307  16905.801524    11.586151         NaN   \n",
       "808        NaN  182.582228  19575.475363    10.048383  424.688994   \n",
       "\n",
       "      Conductivity  Organic_carbon  Trihalomethanes  Turbidity  Potability  \n",
       "1896    558.176592       15.754785        36.267530   4.276699           1  \n",
       "1549    496.906266       16.192870        91.123219   3.767443           1  \n",
       "995     543.392988       15.470400        81.508682   2.988093           0  \n",
       "456     481.307052       10.639743        74.557241   4.181051           0  \n",
       "808     383.490954       19.482945        76.634798   4.329204           1  "
      ]
     },
     "execution_count": 5,
     "metadata": {},
     "output_type": "execute_result"
    }
   ],
   "source": [
    "df.sample(5)"
   ]
  },
  {
   "cell_type": "code",
   "execution_count": 7,
   "metadata": {},
   "outputs": [
    {
     "data": {
      "text/plain": [
       "ph                 491\n",
       "Hardness             0\n",
       "Solids               0\n",
       "Chloramines          0\n",
       "Sulfate            781\n",
       "Conductivity         0\n",
       "Organic_carbon       0\n",
       "Trihalomethanes    162\n",
       "Turbidity            0\n",
       "Potability           0\n",
       "dtype: int64"
      ]
     },
     "execution_count": 7,
     "metadata": {},
     "output_type": "execute_result"
    }
   ],
   "source": [
    "df.isnull().sum()"
   ]
  },
  {
   "cell_type": "code",
   "execution_count": 9,
   "metadata": {},
   "outputs": [
    {
     "data": {
      "text/html": [
       "<div>\n",
       "<style scoped>\n",
       "    .dataframe tbody tr th:only-of-type {\n",
       "        vertical-align: middle;\n",
       "    }\n",
       "\n",
       "    .dataframe tbody tr th {\n",
       "        vertical-align: top;\n",
       "    }\n",
       "\n",
       "    .dataframe thead th {\n",
       "        text-align: right;\n",
       "    }\n",
       "</style>\n",
       "<table border=\"1\" class=\"dataframe\">\n",
       "  <thead>\n",
       "    <tr style=\"text-align: right;\">\n",
       "      <th></th>\n",
       "      <th>ph</th>\n",
       "      <th>Hardness</th>\n",
       "      <th>Solids</th>\n",
       "      <th>Chloramines</th>\n",
       "      <th>Sulfate</th>\n",
       "      <th>Conductivity</th>\n",
       "      <th>Organic_carbon</th>\n",
       "      <th>Trihalomethanes</th>\n",
       "      <th>Turbidity</th>\n",
       "      <th>Potability</th>\n",
       "    </tr>\n",
       "  </thead>\n",
       "  <tbody>\n",
       "    <tr>\n",
       "      <th>62</th>\n",
       "      <td>NaN</td>\n",
       "      <td>229.485694</td>\n",
       "      <td>35729.692709</td>\n",
       "      <td>8.810843</td>\n",
       "      <td>384.943779</td>\n",
       "      <td>296.397547</td>\n",
       "      <td>16.927092</td>\n",
       "      <td>NaN</td>\n",
       "      <td>3.855602</td>\n",
       "      <td>0</td>\n",
       "    </tr>\n",
       "    <tr>\n",
       "      <th>81</th>\n",
       "      <td>5.519126</td>\n",
       "      <td>168.728583</td>\n",
       "      <td>12531.601921</td>\n",
       "      <td>7.730723</td>\n",
       "      <td>NaN</td>\n",
       "      <td>443.570372</td>\n",
       "      <td>18.099078</td>\n",
       "      <td>NaN</td>\n",
       "      <td>3.758996</td>\n",
       "      <td>0</td>\n",
       "    </tr>\n",
       "    <tr>\n",
       "      <th>110</th>\n",
       "      <td>9.286155</td>\n",
       "      <td>222.661551</td>\n",
       "      <td>12311.268366</td>\n",
       "      <td>7.289866</td>\n",
       "      <td>332.239359</td>\n",
       "      <td>353.740100</td>\n",
       "      <td>14.171763</td>\n",
       "      <td>NaN</td>\n",
       "      <td>5.239982</td>\n",
       "      <td>0</td>\n",
       "    </tr>\n",
       "    <tr>\n",
       "      <th>118</th>\n",
       "      <td>7.397413</td>\n",
       "      <td>122.541040</td>\n",
       "      <td>8855.114121</td>\n",
       "      <td>6.888689</td>\n",
       "      <td>241.607532</td>\n",
       "      <td>489.851600</td>\n",
       "      <td>13.365906</td>\n",
       "      <td>NaN</td>\n",
       "      <td>3.149158</td>\n",
       "      <td>0</td>\n",
       "    </tr>\n",
       "    <tr>\n",
       "      <th>119</th>\n",
       "      <td>7.812804</td>\n",
       "      <td>196.583886</td>\n",
       "      <td>42550.841816</td>\n",
       "      <td>7.334648</td>\n",
       "      <td>NaN</td>\n",
       "      <td>442.545775</td>\n",
       "      <td>14.666917</td>\n",
       "      <td>NaN</td>\n",
       "      <td>6.204846</td>\n",
       "      <td>0</td>\n",
       "    </tr>\n",
       "    <tr>\n",
       "      <th>...</th>\n",
       "      <td>...</td>\n",
       "      <td>...</td>\n",
       "      <td>...</td>\n",
       "      <td>...</td>\n",
       "      <td>...</td>\n",
       "      <td>...</td>\n",
       "      <td>...</td>\n",
       "      <td>...</td>\n",
       "      <td>...</td>\n",
       "      <td>...</td>\n",
       "    </tr>\n",
       "    <tr>\n",
       "      <th>3174</th>\n",
       "      <td>6.698154</td>\n",
       "      <td>198.286268</td>\n",
       "      <td>34675.862845</td>\n",
       "      <td>6.263602</td>\n",
       "      <td>360.232834</td>\n",
       "      <td>430.935009</td>\n",
       "      <td>12.176678</td>\n",
       "      <td>NaN</td>\n",
       "      <td>3.758180</td>\n",
       "      <td>1</td>\n",
       "    </tr>\n",
       "    <tr>\n",
       "      <th>3185</th>\n",
       "      <td>6.110022</td>\n",
       "      <td>234.800957</td>\n",
       "      <td>16663.539074</td>\n",
       "      <td>5.984536</td>\n",
       "      <td>348.055211</td>\n",
       "      <td>437.892115</td>\n",
       "      <td>10.059523</td>\n",
       "      <td>NaN</td>\n",
       "      <td>2.817780</td>\n",
       "      <td>1</td>\n",
       "    </tr>\n",
       "    <tr>\n",
       "      <th>3219</th>\n",
       "      <td>6.417716</td>\n",
       "      <td>209.702425</td>\n",
       "      <td>31974.481631</td>\n",
       "      <td>7.263425</td>\n",
       "      <td>321.382124</td>\n",
       "      <td>289.450118</td>\n",
       "      <td>11.369071</td>\n",
       "      <td>NaN</td>\n",
       "      <td>4.210327</td>\n",
       "      <td>1</td>\n",
       "    </tr>\n",
       "    <tr>\n",
       "      <th>3259</th>\n",
       "      <td>9.271355</td>\n",
       "      <td>181.259617</td>\n",
       "      <td>16540.979048</td>\n",
       "      <td>7.022499</td>\n",
       "      <td>309.238865</td>\n",
       "      <td>487.692788</td>\n",
       "      <td>13.228441</td>\n",
       "      <td>NaN</td>\n",
       "      <td>4.333953</td>\n",
       "      <td>1</td>\n",
       "    </tr>\n",
       "    <tr>\n",
       "      <th>3272</th>\n",
       "      <td>7.808856</td>\n",
       "      <td>193.553212</td>\n",
       "      <td>17329.802160</td>\n",
       "      <td>8.061362</td>\n",
       "      <td>NaN</td>\n",
       "      <td>392.449580</td>\n",
       "      <td>19.903225</td>\n",
       "      <td>NaN</td>\n",
       "      <td>2.798243</td>\n",
       "      <td>1</td>\n",
       "    </tr>\n",
       "  </tbody>\n",
       "</table>\n",
       "<p>162 rows × 10 columns</p>\n",
       "</div>"
      ],
      "text/plain": [
       "            ph    Hardness        Solids  Chloramines     Sulfate  \\\n",
       "62         NaN  229.485694  35729.692709     8.810843  384.943779   \n",
       "81    5.519126  168.728583  12531.601921     7.730723         NaN   \n",
       "110   9.286155  222.661551  12311.268366     7.289866  332.239359   \n",
       "118   7.397413  122.541040   8855.114121     6.888689  241.607532   \n",
       "119   7.812804  196.583886  42550.841816     7.334648         NaN   \n",
       "...        ...         ...           ...          ...         ...   \n",
       "3174  6.698154  198.286268  34675.862845     6.263602  360.232834   \n",
       "3185  6.110022  234.800957  16663.539074     5.984536  348.055211   \n",
       "3219  6.417716  209.702425  31974.481631     7.263425  321.382124   \n",
       "3259  9.271355  181.259617  16540.979048     7.022499  309.238865   \n",
       "3272  7.808856  193.553212  17329.802160     8.061362         NaN   \n",
       "\n",
       "      Conductivity  Organic_carbon  Trihalomethanes  Turbidity  Potability  \n",
       "62      296.397547       16.927092              NaN   3.855602           0  \n",
       "81      443.570372       18.099078              NaN   3.758996           0  \n",
       "110     353.740100       14.171763              NaN   5.239982           0  \n",
       "118     489.851600       13.365906              NaN   3.149158           0  \n",
       "119     442.545775       14.666917              NaN   6.204846           0  \n",
       "...            ...             ...              ...        ...         ...  \n",
       "3174    430.935009       12.176678              NaN   3.758180           1  \n",
       "3185    437.892115       10.059523              NaN   2.817780           1  \n",
       "3219    289.450118       11.369071              NaN   4.210327           1  \n",
       "3259    487.692788       13.228441              NaN   4.333953           1  \n",
       "3272    392.449580       19.903225              NaN   2.798243           1  \n",
       "\n",
       "[162 rows x 10 columns]"
      ]
     },
     "execution_count": 9,
     "metadata": {},
     "output_type": "execute_result"
    }
   ],
   "source": [
    "df[df['Sulfate'].isnull()]\n",
    "df[df['ph'].isnull()]\n",
    "df[df['Trihalomethanes'].isnull()]"
   ]
  },
  {
   "cell_type": "code",
   "execution_count": 10,
   "metadata": {},
   "outputs": [],
   "source": [
    "df['ph']=df['ph'].fillna(df.groupby(['Potability'])['ph'].transform('mean'))\n",
    "df['Sulfate']=df['Sulfate'].fillna(df.groupby(['Potability'])['Sulfate'].transform('mean'))\n",
    "df['Trihalomethanes']=df['Trihalomethanes'].fillna(df.groupby(['Potability'])['Trihalomethanes'].transform('mean'))"
   ]
  },
  {
   "cell_type": "code",
   "execution_count": 11,
   "metadata": {},
   "outputs": [
    {
     "data": {
      "text/plain": [
       "ph                 0\n",
       "Hardness           0\n",
       "Solids             0\n",
       "Chloramines        0\n",
       "Sulfate            0\n",
       "Conductivity       0\n",
       "Organic_carbon     0\n",
       "Trihalomethanes    0\n",
       "Turbidity          0\n",
       "Potability         0\n",
       "dtype: int64"
      ]
     },
     "execution_count": 11,
     "metadata": {},
     "output_type": "execute_result"
    }
   ],
   "source": [
    "df.isna().sum()"
   ]
  },
  {
   "cell_type": "code",
   "execution_count": 12,
   "metadata": {},
   "outputs": [
    {
     "data": {
      "text/plain": [
       "0    1998\n",
       "1    1278\n",
       "Name: Potability, dtype: int64"
      ]
     },
     "execution_count": 12,
     "metadata": {},
     "output_type": "execute_result"
    }
   ],
   "source": [
    "df['Potability'].value_counts()\n"
   ]
  },
  {
   "cell_type": "code",
   "execution_count": 14,
   "metadata": {},
   "outputs": [],
   "source": [
    "from sklearn.model_selection import train_test_split"
   ]
  },
  {
   "cell_type": "code",
   "execution_count": 15,
   "metadata": {},
   "outputs": [],
   "source": [
    "x = df.drop(\"Potability\", axis=1)\n",
    "y = df.Potability\n",
    "X_train , X_test , y_train , y_test = train_test_split(x , y, test_size=0.25, random_state=42)"
   ]
  },
  {
   "cell_type": "code",
   "execution_count": 16,
   "metadata": {},
   "outputs": [],
   "source": [
    "model = MyLogisticRegression()"
   ]
  },
  {
   "cell_type": "code",
   "execution_count": 25,
   "metadata": {},
   "outputs": [
    {
     "name": "stderr",
     "output_type": "stream",
     "text": [
      "C:\\Users\\misha\\anaconda3\\lib\\site-packages\\ipykernel_launcher.py:5: RuntimeWarning: overflow encountered in exp\n",
      "  \"\"\"\n"
     ]
    }
   ],
   "source": [
    "model.fit(X_train, y_train)\n",
    "w = model.get_weights()"
   ]
  },
  {
   "cell_type": "code",
   "execution_count": 26,
   "metadata": {},
   "outputs": [
    {
     "data": {
      "text/plain": [
       "array([-4.02350148e-01, -6.82924883e+00, -3.71343377e+02,  5.17555045e+02,\n",
       "        9.89766745e+00, -7.06395507e+02, -5.37416344e+02, -5.21613905e+01,\n",
       "        6.38761577e+01, -2.48398908e+00])"
      ]
     },
     "execution_count": 26,
     "metadata": {},
     "output_type": "execute_result"
    }
   ],
   "source": [
    "w"
   ]
  },
  {
   "cell_type": "code",
   "execution_count": 27,
   "metadata": {},
   "outputs": [
    {
     "name": "stderr",
     "output_type": "stream",
     "text": [
      "C:\\Users\\misha\\anaconda3\\lib\\site-packages\\ipykernel_launcher.py:5: RuntimeWarning: overflow encountered in exp\n",
      "  \"\"\"\n"
     ]
    }
   ],
   "source": [
    "y_pred = model.predict(X_train)"
   ]
  },
  {
   "cell_type": "code",
   "execution_count": 29,
   "metadata": {},
   "outputs": [],
   "source": [
    "from sklearn.metrics import classification_report, confusion_matrix,ConfusionMatrixDisplay"
   ]
  },
  {
   "cell_type": "code",
   "execution_count": 33,
   "metadata": {},
   "outputs": [
    {
     "name": "stdout",
     "output_type": "stream",
     "text": [
      "Accuracy Score: 0.393976393976394\n",
      "F1 Score: 0.5652554744525548\n",
      "Average Precision Score: 0.3941370622928897\n",
      "Log Loss: 20.93179806796831\n",
      "Precision Score: 0.3941368078175896\n",
      "Recall Score: 0.9989680082559339\n",
      "ROC-AUC Score: 0.49948400412796695\n"
     ]
    }
   ],
   "source": [
    "print(\"Accuracy Score:\", metrics.accuracy_score(y_train, y_pred))\n",
    "print(\"F1 Score:\", metrics.f1_score(y_train, y_pred))\n",
    "print(\"Average Precision Score:\", metrics.average_precision_score(y_train, y_pred))\n",
    "print(\"Log Loss:\", metrics.log_loss(y_train, y_pred))\n",
    "print(\"Precision Score:\", metrics.precision_score(y_train, y_pred))\n",
    "print(\"Recall Score:\", metrics.recall_score(y_train, y_pred))\n",
    "print(\"ROC-AUC Score:\", metrics.roc_auc_score(y_train, y_pred))"
   ]
  },
  {
   "cell_type": "code",
   "execution_count": null,
   "metadata": {},
   "outputs": [],
   "source": []
  }
 ],
 "metadata": {
  "kernelspec": {
   "display_name": "Python 3",
   "language": "python",
   "name": "python3"
  },
  "language_info": {
   "codemirror_mode": {
    "name": "ipython",
    "version": 3
   },
   "file_extension": ".py",
   "mimetype": "text/x-python",
   "name": "python",
   "nbconvert_exporter": "python",
   "pygments_lexer": "ipython3",
   "version": "3.7.6"
  },
  "vp": {
   "base_numbering": 1,
   "nav_menu": {},
   "number_sections": true,
   "sideBar": true,
   "title_cell": "VisualPython",
   "title_sidebar": "VisualPython",
   "vpPosition": {
    "height": "calc(100% - 180px)",
    "right": "10px",
    "top": "110px",
    "width": "50%"
   },
   "vp_cell": false,
   "vp_section_display": true,
   "vp_window_display": false
  }
 },
 "nbformat": 4,
 "nbformat_minor": 4
}
