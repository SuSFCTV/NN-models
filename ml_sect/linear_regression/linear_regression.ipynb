{
 "cells": [
  {
   "cell_type": "code",
   "execution_count": 1,
   "metadata": {},
   "outputs": [],
   "source": [
    "import numpy as np\n",
    "import pandas as pd\n",
    "import scipy.linalg as sla\n",
    "import matplotlib.pyplot as plt\n",
    "import seaborn as sns\n",
    "\n",
    "from sklearn import datasets\n",
    "from sklearn.linear_model import LinearRegression\n",
    "from sklearn.model_selection import train_test_split"
   ]
  },
  {
   "cell_type": "markdown",
   "metadata": {},
   "source": [
    "$$ w = (X^TX)^{-1}X^TY $$\n"
   ]
  },
  {
   "cell_type": "code",
   "execution_count": 2,
   "metadata": {},
   "outputs": [],
   "source": [
    "class MyLinearRegression:\n",
    "    def __init__(self, fit_intercept=True):\n",
    "        self.fit_intercept = fit_intercept\n",
    "\n",
    "    def fit(self, X, y):\n",
    "        \n",
    "        n, k = X.shape\n",
    "        \n",
    "        X_train = X\n",
    "        if self.fit_intercept:\n",
    "            X_train = np.hstack((X, np.ones((n, 1))))\n",
    "\n",
    "        self.w = np.linalg.inv(X_train.T @ X_train) @ X_train.T @ y\n",
    "\n",
    "        return self\n",
    "        \n",
    "    def predict(self, X):\n",
    "        n, k = X.shape\n",
    "        if self.fit_intercept:\n",
    "            X_train = np.hstack((X, np.ones((n, 1))))\n",
    "\n",
    "        y_pred = X_train @ self.w\n",
    "\n",
    "        return y_pred\n",
    "    \n",
    "    def get_weights(self):\n",
    "        return self.w\n",
    "    "
   ]
  },
  {
   "cell_type": "code",
   "execution_count": 3,
   "metadata": {},
   "outputs": [],
   "source": [
    "def linear_expression(x):\n",
    "    return 5 * x + 6"
   ]
  },
  {
   "cell_type": "code",
   "execution_count": 4,
   "metadata": {},
   "outputs": [],
   "source": [
    "objects_num = 50\n",
    "X = np.linspace(-5, 5, objects_num)\n",
    "y = linear_expression(X) + np.random.randn(objects_num) * 5\n",
    "X_train, X_test, y_train, y_test = train_test_split(X, y, train_size=0.5)"
   ]
  },
  {
   "cell_type": "code",
   "execution_count": 5,
   "metadata": {},
   "outputs": [
    {
     "data": {
      "text/plain": [
       "<__main__.MyLinearRegression at 0x1ab8f419188>"
      ]
     },
     "execution_count": 5,
     "metadata": {},
     "output_type": "execute_result"
    }
   ],
   "source": [
    "regressor = MyLinearRegression()\n",
    "\n",
    "regressor.fit(X_train[:, np.newaxis], y_train)"
   ]
  },
  {
   "cell_type": "code",
   "execution_count": 6,
   "metadata": {},
   "outputs": [
    {
     "name": "stdout",
     "output_type": "stream",
     "text": [
      "Train MSE:  16.976462331891746\n",
      "Test MSE:  21.056034706555902\n"
     ]
    }
   ],
   "source": [
    "from sklearn.metrics import mean_squared_error\n",
    "\n",
    "train_predictions = regressor.predict(X_train[:, np.newaxis])\n",
    "test_predictions = regressor.predict(X_test[:, np.newaxis])\n",
    "\n",
    "print('Train MSE: ', mean_squared_error(y_train, train_predictions))\n",
    "print('Test MSE: ', mean_squared_error(y_test, test_predictions))"
   ]
  },
  {
   "cell_type": "markdown",
   "metadata": {},
   "source": [
    "Давайте добавим градиентную оптимизацию\n",
    "\n",
    "\n",
    "$$\n",
    "\\frac{\\partial{L}}{\\partial{w}} = \\frac{2}{n}(X^TXw - X^TY) = \\frac{2}{n}X^T(y_{pred} - Y) \\,\\, \\in \\mathbb{R}^{m \\times 1}\n",
    "$$"
   ]
  },
  {
   "cell_type": "code",
   "execution_count": 7,
   "metadata": {},
   "outputs": [],
   "source": [
    "class MyGradientLinearRegression(MyLinearRegression):\n",
    "    def __init__(self, **kwargs):\n",
    "        super().__init__(**kwargs)\n",
    "        self.w = None\n",
    "    \n",
    "    def fit(self, X, y, lr=0.0001, max_iter=100):\n",
    "        # Принимает на вход X, y и вычисляет веса по данной выборке\n",
    "\n",
    "        n, k = X.shape\n",
    "\n",
    "        # случайно инициализируем веса\n",
    "        if self.w is None:\n",
    "            self.w = np.random.randn(k + 1 if self.fit_intercept else k)\n",
    "        \n",
    "        X_train = np.hstack((X, np.ones((n, 1)))) if self.fit_intercept else X\n",
    "        \n",
    "        self.losses = []\n",
    "        \n",
    "        for iter_num in range(max_iter):\n",
    "            y_pred = self.predict(X)\n",
    "            self.losses.append(mean_squared_error(y_pred, y))\n",
    "\n",
    "            grad = self._calc_gradient(X_train, y, y_pred)\n",
    "\n",
    "            assert grad.shape == self.w.shape, f\"gradient shape {grad.shape} is not equal weight shape {self.w.shape}\"\n",
    "            self.w -= lr * grad\n",
    "\n",
    "        return self\n",
    "\n",
    "    def _calc_gradient(self, X, y, y_pred):\n",
    "        grad = 2 * (y_pred - y)[:, np.newaxis] * X\n",
    "        grad = grad.mean(axis=0)\n",
    "        print(grad)\n",
    "        return grad\n",
    "\n",
    "    def get_losses(self):\n",
    "        return self.losses"
   ]
  },
  {
   "cell_type": "code",
   "execution_count": 11,
   "metadata": {},
   "outputs": [
    {
     "name": "stdout",
     "output_type": "stream",
     "text": [
      "[-105.08355802  -23.23745266]\n",
      "[-89.42191218 -21.27150992]\n",
      "[-76.07308596 -19.56862384]\n",
      "[-64.69592524 -18.09049299]\n",
      "[-54.99959093 -16.80445563]\n",
      "[-46.73613839 -15.68265807]\n",
      "[-39.69419128 -14.70134579]\n",
      "[-33.69354839 -13.840259  ]\n",
      "[-28.58058581 -13.08211741]\n",
      "[-24.22433733 -12.41218098]\n",
      "[-20.51315274 -11.8178754 ]\n",
      "[-17.35184911 -11.28847285]\n",
      "[-14.65928214 -10.81481984]\n",
      "[-12.36627569 -10.38910513]\n",
      "[-10.41385669 -10.00466194]\n",
      "[-8.75175034 -9.65579932]\n",
      "[-7.33709728 -9.33765833]\n",
      "[-6.13335993 -9.04608949]\n",
      "[-5.10939012 -8.77754827]\n",
      "[-4.23863423 -8.52900602]\n",
      "[-3.49845558 -8.29787398]\n",
      "[-2.86955674 -8.08193856]\n",
      "[-2.335487   -7.87930612]\n",
      "[-1.88222258 -7.6883559 ]\n",
      "[-1.49780863 -7.50769989]\n",
      "[-1.17205413 -7.33614863]\n",
      "[-0.89627172 -7.17268202]\n",
      "[-0.66305592 -7.0164245 ]\n",
      "[-0.4660941  -6.86662378]\n",
      "[-0.30000526 -6.72263282]\n",
      "[-0.16020261 -6.58389437]\n",
      "[-0.04277648 -6.44992788]\n",
      "[ 0.05560562 -6.32031823]\n",
      "[ 0.13778408 -6.19470623]\n",
      "[ 0.20617982 -6.07278045]\n",
      "[ 0.26285613 -5.95427027]\n",
      "[ 0.30957145 -5.83893995]\n",
      "[ 0.34782432 -5.7265836 ]\n",
      "[ 0.37889174 -5.61702085]\n",
      "[ 0.40386183 -5.51009317]\n",
      "[ 0.42366173 -5.40566076]\n",
      "[ 0.43908131 -5.30359985]\n",
      "[ 0.45079345 -5.20380045]\n",
      "[ 0.45937131 -5.10616435]\n",
      "[ 0.46530302 -5.01060351]\n",
      "[ 0.46900426 -4.91703862]\n",
      "[ 0.47082891 -4.82539791]\n",
      "[ 0.47107823 -4.73561608]\n",
      "[ 0.47000858 -4.64763345]\n",
      "[ 0.46783808 -4.56139519]\n",
      "[ 0.46475223 -4.47685068]\n",
      "[ 0.46090878 -4.39395299]\n",
      "[ 0.45644175 -4.31265834]\n",
      "[ 0.45146503 -4.23292577]\n",
      "[ 0.44607528 -4.15471675]\n",
      "[ 0.44035452 -4.07799492]\n",
      "[ 0.43437229 -4.0027258 ]\n",
      "[ 0.42818747 -3.9288766 ]\n",
      "[ 0.42184991 -3.85641604]\n",
      "[ 0.41540173 -3.78531414]\n",
      "[ 0.40887848 -3.71554217]\n",
      "[ 0.4023101  -3.64707245]\n",
      "[ 0.39572178 -3.57987829]\n",
      "[ 0.38913466 -3.51393389]\n",
      "[ 0.38256641 -3.44921428]\n",
      "[ 0.37603177 -3.38569523]\n",
      "[ 0.369543  -3.3233532]\n",
      "[ 0.36311021 -3.26216533]\n",
      "[ 0.35674174 -3.20210931]\n",
      "[ 0.35044436 -3.14316343]\n",
      "[ 0.34422356 -3.08530651]\n",
      "[ 0.33808373 -3.02851786]\n",
      "[ 0.33202832 -2.97277727]\n",
      "[ 0.32605998 -2.91806499]\n",
      "[ 0.3201807  -2.86436169]\n",
      "[ 0.31439191 -2.81164846]\n",
      "[ 0.30869455 -2.75990681]\n",
      "[ 0.30308916 -2.70911859]\n",
      "[ 0.29757594 -2.65926607]\n",
      "[ 0.29215481 -2.61033183]\n",
      "[ 0.28682546 -2.56229883]\n",
      "[ 0.28158738 -2.51515036]\n",
      "[ 0.27643989 -2.46887003]\n",
      "[ 0.27138216 -2.42344177]\n",
      "[ 0.26641329 -2.37884983]\n",
      "[ 0.26153225 -2.33507873]\n",
      "[ 0.25673796 -2.29211333]\n",
      "[ 0.25202928 -2.24993875]\n",
      "[ 0.24740501 -2.2085404 ]\n",
      "[ 0.24286392 -2.16790395]\n",
      "[ 0.23840478 -2.12801535]\n",
      "[ 0.2340263  -2.08886083]\n",
      "[ 0.2297272  -2.05042684]\n",
      "[ 0.22550621 -2.01270012]\n",
      "[ 0.22136202 -1.97566764]\n",
      "[ 0.21729336 -1.9393166 ]\n",
      "[ 0.21329893 -1.90363446]\n",
      "[ 0.20937748 -1.8686089 ]\n",
      "[ 0.20552772 -1.83422783]\n",
      "[ 0.20174841 -1.80047938]\n"
     ]
    }
   ],
   "source": [
    "#Посчитаю предсказания на сгенеренном датасете\n",
    "regressor = MyGradientLinearRegression(fit_intercept=True)\n",
    "\n",
    "l = regressor.fit(X_train[:, np.newaxis], y_train, max_iter=100, lr = 0.01).get_losses()\n",
    "\n",
    "predictions = regressor.predict(X_test[:, np.newaxis])\n",
    "w = regressor.get_weights()"
   ]
  },
  {
   "cell_type": "code",
   "execution_count": 12,
   "metadata": {},
   "outputs": [
    {
     "data": {
      "image/png": "[encoded data removed]",
      "text/plain": [
       "<Figure size 720x360 with 1 Axes>"
      ]
     },
     "metadata": {
      "needs_background": "light"
     },
     "output_type": "display_data"
    }
   ],
   "source": [
    "plt.figure(figsize=(10, 5))\n",
    "plt.plot(X, linear_expression(X), label='real', c='g')\n",
    "\n",
    "plt.scatter(X_train, y_train, label='train')\n",
    "plt.scatter(X_test, y_test, label='test')\n",
    "plt.plot(X, regressor.predict(X[:, np.newaxis]), label='predicted', c='r')\n",
    "\n",
    "plt.grid(alpha=0.2)\n",
    "plt.legend()\n",
    "plt.show()"
   ]
  },
  {
   "cell_type": "code",
   "execution_count": 13,
   "metadata": {},
   "outputs": [
    {
     "data": {
      "image/png": "[encoded data removed]",
      "text/plain": [
       "<Figure size 720x504 with 1 Axes>"
      ]
     },
     "metadata": {
      "needs_background": "light"
     },
     "output_type": "display_data"
    }
   ],
   "source": [
    "#Высрем график лосса\n",
    "plt.figure(figsize=(10, 7))\n",
    "\n",
    "plt.plot(l)\n",
    "\n",
    "plt.title('Gradient descent learning')\n",
    "plt.ylabel('loss')\n",
    "plt.xlabel('iteration')\n",
    "plt.ylim(bottom=0)\n",
    "plt.grid(alpha=0.2)\n",
    "\n",
    "plt.show()"
   ]
  },
  {
   "cell_type": "code",
   "execution_count": 80,
   "metadata": {},
   "outputs": [
    {
     "name": "stdout",
     "output_type": "stream",
     "text": [
      "Train MSE:  24.01451850881371\n",
      "Test MSE:  33.234662246229306\n"
     ]
    }
   ],
   "source": [
    "train_predictions = regressor.predict(X_train[:, np.newaxis])\n",
    "test_predictions = regressor.predict(X_test[:, np.newaxis])\n",
    "\n",
    "print('Train MSE: ', mean_squared_error(y_train, train_predictions))\n",
    "print('Test MSE: ', mean_squared_error(y_test, test_predictions))"
   ]
  },
  {
   "cell_type": "code",
   "execution_count": 14,
   "metadata": {},
   "outputs": [
    {
     "name": "stdout",
     "output_type": "stream",
     "text": [
      "<class 'pandas.core.frame.DataFrame'>\n",
      "RangeIndex: 1338 entries, 0 to 1337\n",
      "Data columns (total 7 columns):\n",
      " #   Column    Non-Null Count  Dtype  \n",
      "---  ------    --------------  -----  \n",
      " 0   age       1338 non-null   int64  \n",
      " 1   sex       1338 non-null   object \n",
      " 2   bmi       1338 non-null   float64\n",
      " 3   children  1338 non-null   int64  \n",
      " 4   smoker    1338 non-null   object \n",
      " 5   region    1338 non-null   object \n",
      " 6   expenses  1338 non-null   float64\n",
      "dtypes: float64(2), int64(2), object(3)\n",
      "memory usage: 73.3+ KB\n"
     ]
    }
   ],
   "source": [
    "df = pd.read_csv('insurance.csv')\n",
    "df.info()"
   ]
  },
  {
   "cell_type": "code",
   "execution_count": 15,
   "metadata": {},
   "outputs": [
    {
     "data": {
      "text/html": [
       "<div>\n",
       "<style scoped>\n",
       "    .dataframe tbody tr th:only-of-type {\n",
       "        vertical-align: middle;\n",
       "    }\n",
       "\n",
       "    .dataframe tbody tr th {\n",
       "        vertical-align: top;\n",
       "    }\n",
       "\n",
       "    .dataframe thead th {\n",
       "        text-align: right;\n",
       "    }\n",
       "</style>\n",
       "<table border=\"1\" class=\"dataframe\">\n",
       "  <thead>\n",
       "    <tr style=\"text-align: right;\">\n",
       "      <th></th>\n",
       "      <th>age</th>\n",
       "      <th>sex</th>\n",
       "      <th>bmi</th>\n",
       "      <th>children</th>\n",
       "      <th>smoker</th>\n",
       "      <th>region</th>\n",
       "      <th>expenses</th>\n",
       "    </tr>\n",
       "  </thead>\n",
       "  <tbody>\n",
       "    <tr>\n",
       "      <th>0</th>\n",
       "      <td>19</td>\n",
       "      <td>female</td>\n",
       "      <td>27.9</td>\n",
       "      <td>0</td>\n",
       "      <td>yes</td>\n",
       "      <td>southwest</td>\n",
       "      <td>16884.92</td>\n",
       "    </tr>\n",
       "    <tr>\n",
       "      <th>1</th>\n",
       "      <td>18</td>\n",
       "      <td>male</td>\n",
       "      <td>33.8</td>\n",
       "      <td>1</td>\n",
       "      <td>no</td>\n",
       "      <td>southeast</td>\n",
       "      <td>1725.55</td>\n",
       "    </tr>\n",
       "    <tr>\n",
       "      <th>2</th>\n",
       "      <td>28</td>\n",
       "      <td>male</td>\n",
       "      <td>33.0</td>\n",
       "      <td>3</td>\n",
       "      <td>no</td>\n",
       "      <td>southeast</td>\n",
       "      <td>4449.46</td>\n",
       "    </tr>\n",
       "    <tr>\n",
       "      <th>3</th>\n",
       "      <td>33</td>\n",
       "      <td>male</td>\n",
       "      <td>22.7</td>\n",
       "      <td>0</td>\n",
       "      <td>no</td>\n",
       "      <td>northwest</td>\n",
       "      <td>21984.47</td>\n",
       "    </tr>\n",
       "    <tr>\n",
       "      <th>4</th>\n",
       "      <td>32</td>\n",
       "      <td>male</td>\n",
       "      <td>28.9</td>\n",
       "      <td>0</td>\n",
       "      <td>no</td>\n",
       "      <td>northwest</td>\n",
       "      <td>3866.86</td>\n",
       "    </tr>\n",
       "  </tbody>\n",
       "</table>\n",
       "</div>"
      ],
      "text/plain": [
       "   age     sex   bmi  children smoker     region  expenses\n",
       "0   19  female  27.9         0    yes  southwest  16884.92\n",
       "1   18    male  33.8         1     no  southeast   1725.55\n",
       "2   28    male  33.0         3     no  southeast   4449.46\n",
       "3   33    male  22.7         0     no  northwest  21984.47\n",
       "4   32    male  28.9         0     no  northwest   3866.86"
      ]
     },
     "execution_count": 15,
     "metadata": {},
     "output_type": "execute_result"
    }
   ],
   "source": [
    "df.head()"
   ]
  },
  {
   "cell_type": "code",
   "execution_count": 16,
   "metadata": {},
   "outputs": [],
   "source": [
    "num_features = []\n",
    "cat_features = []"
   ]
  },
  {
   "cell_type": "code",
   "execution_count": 17,
   "metadata": {},
   "outputs": [
    {
     "data": {
      "image/png": "[encoded data removed]",
      "text/plain": [
       "<Figure size 144x144 with 1 Axes>"
      ]
     },
     "metadata": {
      "needs_background": "light"
     },
     "output_type": "display_data"
    },
    {
     "data": {
      "image/png": "[encoded data removed]",
      "text/plain": [
       "<Figure size 144x144 with 1 Axes>"
      ]
     },
     "metadata": {
      "needs_background": "light"
     },
     "output_type": "display_data"
    },
    {
     "data": {
      "image/png": "[encoded data removed]",
      "text/plain": [
       "<Figure size 144x144 with 1 Axes>"
      ]
     },
     "metadata": {
      "needs_background": "light"
     },
     "output_type": "display_data"
    },
    {
     "data": {
      "image/png": "[encoded data removed]",
      "text/plain": [
       "<Figure size 144x144 with 1 Axes>"
      ]
     },
     "metadata": {
      "needs_background": "light"
     },
     "output_type": "display_data"
    },
    {
     "data": {
      "image/png": "[encoded data removed]",
      "text/plain": [
       "<Figure size 144x144 with 1 Axes>"
      ]
     },
     "metadata": {
      "needs_background": "light"
     },
     "output_type": "display_data"
    },
    {
     "data": {
      "image/png": "[encoded data removed]",
      "text/plain": [
       "<Figure size 144x144 with 1 Axes>"
      ]
     },
     "metadata": {
      "needs_background": "light"
     },
     "output_type": "display_data"
    },
    {
     "data": {
      "image/png": "[encoded data removed]",
      "text/plain": [
       "<Figure size 144x144 with 1 Axes>"
      ]
     },
     "metadata": {
      "needs_background": "light"
     },
     "output_type": "display_data"
    }
   ],
   "source": [
    "from pandas.api.types import is_string_dtype, is_numeric_dtype\n",
    "for column in df:\n",
    "    plt.figure(column, figsize=(2,2))\n",
    "    plt.title(column)\n",
    "    if is_numeric_dtype(df[column]):\n",
    "        df[column].plot(kind = 'hist')\n",
    "        num_features.append(column)\n",
    "    elif is_string_dtype(df[column]):\n",
    "        df[column].value_counts()[:10].plot(kind = 'bar')\n",
    "        cat_features.append(column)"
   ]
  },
  {
   "cell_type": "code",
   "execution_count": 18,
   "metadata": {},
   "outputs": [
    {
     "data": {
      "text/plain": [
       "['sex', 'smoker', 'region']"
      ]
     },
     "execution_count": 18,
     "metadata": {},
     "output_type": "execute_result"
    }
   ],
   "source": [
    "cat_features"
   ]
  },
  {
   "cell_type": "code",
   "execution_count": 19,
   "metadata": {},
   "outputs": [
    {
     "data": {
      "text/plain": [
       "['age', 'bmi', 'children', 'expenses']"
      ]
     },
     "execution_count": 19,
     "metadata": {},
     "output_type": "execute_result"
    }
   ],
   "source": [
    "num_features"
   ]
  },
  {
   "cell_type": "code",
   "execution_count": 20,
   "metadata": {},
   "outputs": [],
   "source": [
    "df['expenses'] = np.log2(df['expenses'] + 1)"
   ]
  },
  {
   "cell_type": "code",
   "execution_count": 21,
   "metadata": {},
   "outputs": [
    {
     "data": {
      "text/plain": [
       "<matplotlib.axes._subplots.AxesSubplot at 0x1ab90087e88>"
      ]
     },
     "execution_count": 21,
     "metadata": {},
     "output_type": "execute_result"
    },
    {
     "data": {
      "image/png": "[encoded data removed]",
      "text/plain": [
       "<Figure size 720x720 with 2 Axes>"
      ]
     },
     "metadata": {
      "needs_background": "light"
     },
     "output_type": "display_data"
    }
   ],
   "source": [
    "plt.figure(column, figsize=(10,10))\n",
    "corr = df.corr()\n",
    "sns.heatmap(corr, cmap = 'GnBu', annot=True)"
   ]
  },
  {
   "cell_type": "code",
   "execution_count": 22,
   "metadata": {},
   "outputs": [],
   "source": [
    "from sklearn import preprocessing\n",
    "from sklearn.preprocessing import LabelEncoder"
   ]
  },
  {
   "cell_type": "code",
   "execution_count": 23,
   "metadata": {},
   "outputs": [],
   "source": [
    "for feat in cat_features:\n",
    "    df[feat] = LabelEncoder().fit_transform(df[feat])"
   ]
  },
  {
   "cell_type": "code",
   "execution_count": 24,
   "metadata": {},
   "outputs": [
    {
     "data": {
      "text/html": [
       "<div>\n",
       "<style scoped>\n",
       "    .dataframe tbody tr th:only-of-type {\n",
       "        vertical-align: middle;\n",
       "    }\n",
       "\n",
       "    .dataframe tbody tr th {\n",
       "        vertical-align: top;\n",
       "    }\n",
       "\n",
       "    .dataframe thead th {\n",
       "        text-align: right;\n",
       "    }\n",
       "</style>\n",
       "<table border=\"1\" class=\"dataframe\">\n",
       "  <thead>\n",
       "    <tr style=\"text-align: right;\">\n",
       "      <th></th>\n",
       "      <th>age</th>\n",
       "      <th>sex</th>\n",
       "      <th>bmi</th>\n",
       "      <th>children</th>\n",
       "      <th>smoker</th>\n",
       "      <th>region</th>\n",
       "      <th>expenses</th>\n",
       "    </tr>\n",
       "  </thead>\n",
       "  <tbody>\n",
       "    <tr>\n",
       "      <th>0</th>\n",
       "      <td>19</td>\n",
       "      <td>0</td>\n",
       "      <td>27.9</td>\n",
       "      <td>0</td>\n",
       "      <td>1</td>\n",
       "      <td>3</td>\n",
       "      <td>14.043533</td>\n",
       "    </tr>\n",
       "    <tr>\n",
       "      <th>1</th>\n",
       "      <td>18</td>\n",
       "      <td>1</td>\n",
       "      <td>33.8</td>\n",
       "      <td>1</td>\n",
       "      <td>0</td>\n",
       "      <td>2</td>\n",
       "      <td>10.753676</td>\n",
       "    </tr>\n",
       "    <tr>\n",
       "      <th>2</th>\n",
       "      <td>28</td>\n",
       "      <td>1</td>\n",
       "      <td>33.0</td>\n",
       "      <td>3</td>\n",
       "      <td>0</td>\n",
       "      <td>2</td>\n",
       "      <td>12.119739</td>\n",
       "    </tr>\n",
       "    <tr>\n",
       "      <th>3</th>\n",
       "      <td>33</td>\n",
       "      <td>1</td>\n",
       "      <td>22.7</td>\n",
       "      <td>0</td>\n",
       "      <td>0</td>\n",
       "      <td>1</td>\n",
       "      <td>14.424263</td>\n",
       "    </tr>\n",
       "    <tr>\n",
       "      <th>4</th>\n",
       "      <td>32</td>\n",
       "      <td>1</td>\n",
       "      <td>28.9</td>\n",
       "      <td>0</td>\n",
       "      <td>0</td>\n",
       "      <td>1</td>\n",
       "      <td>11.917320</td>\n",
       "    </tr>\n",
       "  </tbody>\n",
       "</table>\n",
       "</div>"
      ],
      "text/plain": [
       "   age  sex   bmi  children  smoker  region   expenses\n",
       "0   19    0  27.9         0       1       3  14.043533\n",
       "1   18    1  33.8         1       0       2  10.753676\n",
       "2   28    1  33.0         3       0       2  12.119739\n",
       "3   33    1  22.7         0       0       1  14.424263\n",
       "4   32    1  28.9         0       0       1  11.917320"
      ]
     },
     "execution_count": 24,
     "metadata": {},
     "output_type": "execute_result"
    }
   ],
   "source": [
    "df.head()"
   ]
  },
  {
   "cell_type": "code",
   "execution_count": 25,
   "metadata": {},
   "outputs": [
    {
     "data": {
      "text/html": [
       "<div>\n",
       "<style scoped>\n",
       "    .dataframe tbody tr th:only-of-type {\n",
       "        vertical-align: middle;\n",
       "    }\n",
       "\n",
       "    .dataframe tbody tr th {\n",
       "        vertical-align: top;\n",
       "    }\n",
       "\n",
       "    .dataframe thead th {\n",
       "        text-align: right;\n",
       "    }\n",
       "</style>\n",
       "<table border=\"1\" class=\"dataframe\">\n",
       "  <thead>\n",
       "    <tr style=\"text-align: right;\">\n",
       "      <th></th>\n",
       "      <th>age</th>\n",
       "      <th>sex</th>\n",
       "      <th>bmi</th>\n",
       "      <th>children</th>\n",
       "      <th>smoker</th>\n",
       "      <th>region</th>\n",
       "    </tr>\n",
       "  </thead>\n",
       "  <tbody>\n",
       "    <tr>\n",
       "      <th>0</th>\n",
       "      <td>19</td>\n",
       "      <td>0</td>\n",
       "      <td>27.9</td>\n",
       "      <td>0</td>\n",
       "      <td>1</td>\n",
       "      <td>3</td>\n",
       "    </tr>\n",
       "    <tr>\n",
       "      <th>1</th>\n",
       "      <td>18</td>\n",
       "      <td>1</td>\n",
       "      <td>33.8</td>\n",
       "      <td>1</td>\n",
       "      <td>0</td>\n",
       "      <td>2</td>\n",
       "    </tr>\n",
       "    <tr>\n",
       "      <th>2</th>\n",
       "      <td>28</td>\n",
       "      <td>1</td>\n",
       "      <td>33.0</td>\n",
       "      <td>3</td>\n",
       "      <td>0</td>\n",
       "      <td>2</td>\n",
       "    </tr>\n",
       "    <tr>\n",
       "      <th>3</th>\n",
       "      <td>33</td>\n",
       "      <td>1</td>\n",
       "      <td>22.7</td>\n",
       "      <td>0</td>\n",
       "      <td>0</td>\n",
       "      <td>1</td>\n",
       "    </tr>\n",
       "    <tr>\n",
       "      <th>4</th>\n",
       "      <td>32</td>\n",
       "      <td>1</td>\n",
       "      <td>28.9</td>\n",
       "      <td>0</td>\n",
       "      <td>0</td>\n",
       "      <td>1</td>\n",
       "    </tr>\n",
       "    <tr>\n",
       "      <th>...</th>\n",
       "      <td>...</td>\n",
       "      <td>...</td>\n",
       "      <td>...</td>\n",
       "      <td>...</td>\n",
       "      <td>...</td>\n",
       "      <td>...</td>\n",
       "    </tr>\n",
       "    <tr>\n",
       "      <th>1333</th>\n",
       "      <td>50</td>\n",
       "      <td>1</td>\n",
       "      <td>31.0</td>\n",
       "      <td>3</td>\n",
       "      <td>0</td>\n",
       "      <td>1</td>\n",
       "    </tr>\n",
       "    <tr>\n",
       "      <th>1334</th>\n",
       "      <td>18</td>\n",
       "      <td>0</td>\n",
       "      <td>31.9</td>\n",
       "      <td>0</td>\n",
       "      <td>0</td>\n",
       "      <td>0</td>\n",
       "    </tr>\n",
       "    <tr>\n",
       "      <th>1335</th>\n",
       "      <td>18</td>\n",
       "      <td>0</td>\n",
       "      <td>36.9</td>\n",
       "      <td>0</td>\n",
       "      <td>0</td>\n",
       "      <td>2</td>\n",
       "    </tr>\n",
       "    <tr>\n",
       "      <th>1336</th>\n",
       "      <td>21</td>\n",
       "      <td>0</td>\n",
       "      <td>25.8</td>\n",
       "      <td>0</td>\n",
       "      <td>0</td>\n",
       "      <td>3</td>\n",
       "    </tr>\n",
       "    <tr>\n",
       "      <th>1337</th>\n",
       "      <td>61</td>\n",
       "      <td>0</td>\n",
       "      <td>29.1</td>\n",
       "      <td>0</td>\n",
       "      <td>1</td>\n",
       "      <td>1</td>\n",
       "    </tr>\n",
       "  </tbody>\n",
       "</table>\n",
       "<p>1338 rows × 6 columns</p>\n",
       "</div>"
      ],
      "text/plain": [
       "      age  sex   bmi  children  smoker  region\n",
       "0      19    0  27.9         0       1       3\n",
       "1      18    1  33.8         1       0       2\n",
       "2      28    1  33.0         3       0       2\n",
       "3      33    1  22.7         0       0       1\n",
       "4      32    1  28.9         0       0       1\n",
       "...   ...  ...   ...       ...     ...     ...\n",
       "1333   50    1  31.0         3       0       1\n",
       "1334   18    0  31.9         0       0       0\n",
       "1335   18    0  36.9         0       0       2\n",
       "1336   21    0  25.8         0       0       3\n",
       "1337   61    0  29.1         0       1       1\n",
       "\n",
       "[1338 rows x 6 columns]"
      ]
     },
     "execution_count": 25,
     "metadata": {},
     "output_type": "execute_result"
    }
   ],
   "source": [
    "X = df.drop(columns=['expenses'], axis=1)\n",
    "X"
   ]
  },
  {
   "cell_type": "code",
   "execution_count": 26,
   "metadata": {},
   "outputs": [
    {
     "data": {
      "text/plain": [
       "0       14.043533\n",
       "1       10.753676\n",
       "2       12.119739\n",
       "3       14.424263\n",
       "4       11.917320\n",
       "          ...    \n",
       "1333    13.371988\n",
       "1334    11.107858\n",
       "1335    10.671391\n",
       "1336    10.972226\n",
       "1337    14.830830\n",
       "Name: expenses, Length: 1338, dtype: float64"
      ]
     },
     "execution_count": 26,
     "metadata": {},
     "output_type": "execute_result"
    }
   ],
   "source": [
    "y = df['expenses']\n",
    "y"
   ]
  },
  {
   "cell_type": "code",
   "execution_count": 27,
   "metadata": {},
   "outputs": [],
   "source": [
    "from sklearn.model_selection import train_test_split\n",
    "X_train, X_test, y_train, y_test = train_test_split(X, y, test_size=0.6,random_state=23)"
   ]
  },
  {
   "cell_type": "code",
   "execution_count": 28,
   "metadata": {},
   "outputs": [
    {
     "name": "stdout",
     "output_type": "stream",
     "text": [
      "[-3612.18460993   -44.90086416 -2724.24524183   -96.17186303\n",
      "   -18.29196653  -126.27777038   -86.54706613]\n",
      "[-1659.65660678   -21.41626291 -1288.87101481   -47.35071813\n",
      "    -8.85663424   -58.62299682   -41.01904257]\n",
      "[-753.31190999  -10.50662691 -621.95790574  -24.67172782   -4.47258587\n",
      "  -27.18951251  -19.86977259]\n",
      "[-332.75077689   -5.43617677 -311.88179237  -14.13182811   -2.43411703\n",
      "  -12.57547321  -10.04077004]\n",
      "[-137.75519135   -3.07719426 -167.50748031   -9.22878167   -1.48485008\n",
      "   -5.77174895   -5.46840639]\n",
      "[ -47.49463609   -1.97734175 -100.08242669   -6.94331299   -1.04139313\n",
      "   -2.59500148   -3.33707133]\n",
      "[ -5.86230245  -1.46223403 -68.3948321   -5.87343808  -0.83285106\n",
      "  -1.10271878  -2.3393515 ]\n",
      "[ 13.19457185  -1.2187233  -53.30814484  -5.36815211  -0.73343465\n",
      "  -0.39290243  -1.86815535]\n",
      "[ 21.77334273  -1.10140008 -45.9363178   -5.1251628   -0.68473369\n",
      "  -0.04671014  -1.64158141]\n",
      "[ 25.49126215  -1.04274314 -42.1530632   -5.00410034  -0.65962506\n",
      "   0.13034984  -1.52872822]\n",
      "[ 26.95658778  -1.01139821 -40.04225943  -4.93978268  -0.64551355\n",
      "   0.22859338  -1.46881028]\n",
      "[ 27.38037106  -0.99280492 -38.71406348  -4.90194075  -0.63654995\n",
      "   0.28996286  -1.43359999]\n",
      "[ 27.32488076  -0.98020107 -37.75518013  -4.87651717  -0.6300175\n",
      "   0.33393867  -1.40998791]\n",
      "[ 27.05112877  -0.97044553 -36.97359786  -4.85698234  -0.62465402\n",
      "   0.36957099  -1.3918846 ]\n",
      "[ 26.68024151  -0.96207858 -36.28005856  -4.84030224  -0.61987273\n",
      "   0.40106677  -1.37646038]\n",
      "[ 26.26839169  -0.9544213  -35.63301872  -4.82506597  -0.61540048\n",
      "   0.43038393  -1.36239925]\n",
      "[ 25.84159239  -0.94715733 -35.01309242  -4.81061641  -0.6111098\n",
      "   0.45843601  -1.34908811]\n",
      "[ 25.41185346  -0.94013868 -34.41118411  -4.79664643  -0.60694085\n",
      "   0.48565149  -1.33624028]\n",
      "[ 24.98468358  -0.93329557 -33.82297812  -4.7830115   -0.60286519\n",
      "   0.51223359  -1.3237207 ]\n",
      "[ 24.56257386  -0.92659456 -33.24637984  -4.76964259  -0.598869\n",
      "   0.53828083  -1.31146471]\n",
      "[ 24.14661531  -0.92001908 -32.68032753  -4.75650578  -0.59494526\n",
      "   0.56384304  -1.29944042]\n",
      "[ 23.73724995  -0.91356044 -32.12424059  -4.74358348  -0.59109009\n",
      "   0.58894738  -1.28763115]\n",
      "[ 23.33461954  -0.90721359 -31.57776329  -4.7308657   -0.5873011\n",
      "   0.61361043  -1.27602733]\n",
      "[ 22.9387275   -0.90097522 -31.04064582  -4.71834603  -0.5835766\n",
      "   0.63784376  -1.26462273]\n",
      "[ 22.54951405  -0.89484283 -30.51268896  -4.70601975  -0.57991523\n",
      "   0.66165656  -1.2534127 ]\n",
      "[ 22.16689115  -0.88881432 -29.99371841  -4.69388294  -0.57631579\n",
      "   0.68505687  -1.24239332]\n",
      "[ 21.7907586   -0.88288778 -29.48357283  -4.6819321   -0.57277718\n",
      "   0.7080521   -1.2315611 ]\n",
      "[ 21.42101163  -0.87706141 -28.98209826  -4.67016393  -0.56929833\n",
      "   0.73064933  -1.22091271]\n",
      "[ 21.05754429  -0.87133347 -28.48914552  -4.65857527  -0.56587822\n",
      "   0.7528554   -1.21044498]\n",
      "[ 20.70025106  -0.86570229 -28.00456894  -4.64716305  -0.56251584\n",
      "   0.77467701  -1.20015481]\n",
      "[ 20.3490276   -0.86016621 -27.52822582  -4.63592427  -0.55921021\n",
      "   0.7961207   -1.19003918]\n",
      "[ 20.00377103  -0.85472361 -27.05997609  -4.62485597  -0.55596037\n",
      "   0.81719291  -1.18009511]\n",
      "[ 19.66438011  -0.8493729  -26.59968215  -4.61395527  -0.55276536\n",
      "   0.83789995  -1.17031967]\n",
      "[ 19.33075522  -0.84411252 -26.14720878  -4.60321932  -0.54962426\n",
      "   0.85824804  -1.16071002]\n",
      "[ 19.00279844  -0.83894094 -25.70242312  -4.59264533  -0.54653614\n",
      "   0.87824327  -1.15126333]\n",
      "[ 18.68041346  -0.83385664 -25.26519452  -4.58223055  -0.54350012\n",
      "   0.89789164  -1.14197682]\n",
      "[ 18.36350563  -0.82885815 -24.8353946   -4.57197229  -0.54051529\n",
      "   0.91719904  -1.13284779]\n",
      "[ 18.05198191  -0.823944   -24.41289714  -4.56186788  -0.5375808\n",
      "   0.93617127  -1.12387355]\n",
      "[ 17.74575081  -0.81911277 -23.99757807  -4.55191473  -0.53469579\n",
      "   0.95481403  -1.11505147]\n",
      "[ 17.44472241  -0.81436304 -23.58931543  -4.54211027  -0.53185942\n",
      "   0.97313291  -1.10637897]\n",
      "[ 17.14880832  -0.80969343 -23.18798934  -4.53245198  -0.52907085\n",
      "   0.99113342  -1.09785351]\n",
      "[ 16.85792165  -0.80510259 -22.79348193  -4.52293738  -0.52632929\n",
      "   1.00882096  -1.08947259]\n",
      "[ 16.57197698  -0.80058916 -22.40567736  -4.51356403  -0.52363393\n",
      "   1.02620086  -1.08123375]\n",
      "[ 16.29089036  -0.79615183 -22.02446176  -4.50432955  -0.52098398\n",
      "   1.04327835  -1.07313459]\n",
      "[ 16.01457924  -0.79178932 -21.64972318  -4.49523158  -0.51837868\n",
      "   1.06005856  -1.06517272]\n",
      "[ 15.74296248  -0.78750035 -21.28135156  -4.48626781  -0.51581726\n",
      "   1.07654655  -1.05734581]\n",
      "[ 15.47596034  -0.78328368 -20.91923874  -4.47743596  -0.51329898\n",
      "   1.09274728  -1.04965158]\n",
      "[ 15.21349441  -0.77913806 -20.56327839  -4.46873379  -0.51082311\n",
      "   1.10866563  -1.04208776]\n",
      "[ 14.95548761  -0.77506231 -20.21336596  -4.46015912  -0.50838893\n",
      "   1.12430641  -1.03465215]\n",
      "[ 14.7018642   -0.77105522 -19.86939872  -4.45170978  -0.50599572\n",
      "   1.13967433  -1.02734255]\n",
      "[ 14.45254969  -0.76711564 -19.53127564  -4.44338365  -0.5036428\n",
      "   1.15477402  -1.02015685]\n",
      "[ 14.20747088  -0.76324241 -19.19889744  -4.43517864  -0.50132947\n",
      "   1.16961005  -1.01309292]\n",
      "[ 13.9665558   -0.75943441 -18.87216652  -4.42709269  -0.49905507\n",
      "   1.1841869   -1.00614869]\n",
      "[ 13.72973372  -0.75569053 -18.55098692  -4.4191238   -0.49681894\n",
      "   1.19850897  -0.99932215]\n",
      "[ 13.49693509  -0.75200969 -18.23526433  -4.41126998  -0.49462041\n",
      "   1.2125806   -0.99261128]\n",
      "[ 13.26809156  -0.7483908  -17.92490604  -4.40352928  -0.49245887\n",
      "   1.22640603  -0.98601412]\n",
      "[ 13.04313593  -0.74483283 -17.61982091  -4.39589979  -0.49033366\n",
      "   1.23998945  -0.97952874]\n",
      "[ 12.82200214  -0.74133472 -17.31991934  -4.38837961  -0.48824419\n",
      "   1.25333498  -0.97315324]\n",
      "[ 12.60462527  -0.73789548 -17.02511328  -4.38096691  -0.48618984\n",
      "   1.26644666  -0.96688575]\n",
      "[ 12.39094147  -0.73451408 -16.73531613  -4.37365986  -0.48417002\n",
      "   1.27932846  -0.96072444]\n",
      "[ 12.18088802  -0.73118957 -16.45044282  -4.36645667  -0.48218413\n",
      "   1.29198429  -0.95466751]\n",
      "[ 11.97440322  -0.72792096 -16.17040967  -4.35935559  -0.48023161\n",
      "   1.30441799  -0.94871318]\n",
      "[ 11.77142645  -0.7247073  -15.89513447  -4.35235488  -0.47831188\n",
      "   1.31663334  -0.9428597 ]\n",
      "[ 11.5718981   -0.72154767 -15.62453636  -4.34545285  -0.4764244\n",
      "   1.32863405  -0.93710537]\n",
      "[ 11.3757596   -0.71844115 -15.35853588  -4.33864782  -0.4745686\n",
      "   1.34042376  -0.9314485 ]\n",
      "[ 11.18295334  -0.71538683 -15.09705493  -4.33193815  -0.47274395\n",
      "   1.35200606  -0.92588743]\n",
      "[ 10.99342271  -0.71238383 -14.84001672  -4.32532224  -0.47094993\n",
      "   1.36338448  -0.92042054]\n",
      "[ 10.80711206  -0.70943127 -14.58734576  -4.31879849  -0.46918601\n",
      "   1.37456248  -0.91504623]\n",
      "[ 10.62396668  -0.7065283  -14.33896785  -4.31236534  -0.46745168\n",
      "   1.38554347  -0.90976292]\n",
      "[ 10.44393279  -0.70367408 -14.09481007  -4.30602126  -0.46574644\n",
      "   1.3963308   -0.90456907]\n",
      "[ 10.26695754  -0.70086777 -13.8548007   -4.29976475  -0.4640698\n",
      "   1.40692775  -0.89946316]\n",
      "[ 10.09298895  -0.69810857 -13.61886926  -4.29359432  -0.46242126\n",
      "   1.41733757  -0.89444369]\n",
      "[  9.92197594  -0.69539567 -13.38694648  -4.28750851  -0.46080036\n",
      "   1.42756344  -0.8895092 ]\n",
      "[  9.75386829  -0.69272828 -13.15896425  -4.28150589  -0.45920662\n",
      "   1.43760847  -0.88465824]\n",
      "[  9.58861665  -0.69010564 -12.93485561  -4.27558507  -0.45763958\n",
      "   1.44747576  -0.87988939]\n",
      "[  9.4261725   -0.68752699 -12.71455476  -4.26974464  -0.45609878\n",
      "   1.4571683   -0.87520126]\n",
      "[  9.26648812  -0.68499157 -12.49799699  -4.26398326  -0.45458379\n",
      "   1.46668909  -0.87059247]\n",
      "[  9.10951664  -0.68249865 -12.28511873  -4.25829958  -0.45309415\n",
      "   1.47604103  -0.86606169]\n",
      "[  8.95521197  -0.68004751 -12.07585744  -4.2526923   -0.45162945\n",
      "   1.485227    -0.86160757]\n",
      "[  8.80352878  -0.67763744 -11.87015168  -4.24716011  -0.45018926\n",
      "   1.49424982  -0.85722883]\n",
      "[  8.65442256  -0.67526774 -11.66794105  -4.24170176  -0.44877316\n",
      "   1.50311226  -0.85292418]\n",
      "[  8.5078495   -0.67293773 -11.46916615  -4.23631599  -0.44738075\n",
      "   1.51181704  -0.84869236]\n",
      "[  8.36376658  -0.67064673 -11.27376862  -4.23100157  -0.44601161\n",
      "   1.52036685  -0.84453213]\n",
      "[  8.22213149  -0.66839408 -11.08169108  -4.22575731  -0.44466536\n",
      "   1.52876433  -0.84044229]\n",
      "[  8.08290264  -0.66617913 -10.89287711  -4.220582    -0.4433416\n",
      "   1.53701205  -0.83642162]\n",
      "[  7.94603915  -0.66400123 -10.70727128  -4.2154745   -0.44203996\n",
      "   1.54511257  -0.83246896]\n",
      "[  7.81150082  -0.66185977 -10.52481907  -4.21043364  -0.44076005\n",
      "   1.55306839  -0.82858316]\n",
      "[  7.67924817  -0.65975411 -10.34546691  -4.20545832  -0.43950152\n",
      "   1.56088197  -0.82476306]\n",
      "[  7.54924234  -0.65768365 -10.16916212  -4.20054741  -0.43826399\n",
      "   1.56855572  -0.82100757]\n",
      "[ 7.42144518 -0.6556478  -9.99585294 -4.19569983 -0.43704711  1.57609203\n",
      " -0.81731558]\n",
      "[ 7.29581915 -0.65364596 -9.82548846 -4.19091451 -0.43585053  1.58349323\n",
      " -0.81368602]\n",
      "[ 7.17232737 -0.65167756 -9.65801865 -4.1861904  -0.4346739   1.59076162\n",
      " -0.81011781]\n",
      "[ 7.05093358 -0.64974202 -9.49339435 -4.18152646 -0.43351688  1.59789945\n",
      " -0.80660993]\n",
      "[ 6.93160213 -0.6478388  -9.33156719 -4.17692169 -0.43237915  1.60490894\n",
      " -0.80316134]\n",
      "[ 6.81429798 -0.64596734 -9.17248966 -4.17237507 -0.43126037  1.61179228\n",
      " -0.79977104]\n",
      "[ 6.6989867  -0.6441271  -9.01611505 -4.16788563 -0.43016022  1.61855162\n",
      " -0.79643804]\n",
      "[ 6.58563441 -0.64231755 -8.86239742 -4.1634524  -0.42907839  1.62518905\n",
      " -0.79316136]\n",
      "[ 6.47420785 -0.64053818 -8.71129164 -4.15907444 -0.42801456  1.63170665\n",
      " -0.78994005]\n",
      "[ 6.36467429 -0.63878846 -8.56275334 -4.15475081 -0.42696843  1.63810646\n",
      " -0.78677317]\n",
      "[ 6.25700156 -0.63706789 -8.41673888 -4.15048059 -0.4259397   1.64439048\n",
      " -0.78365979]\n"
     ]
    }
   ],
   "source": [
    "from sklearn.linear_model import LinearRegression\n",
    "\n",
    "my_lin_reg = MyGradientLinearRegression()\n",
    "my_lin_reg.fit(X_train, y_train).get_losses()\n",
    "\n",
    "y_pred_mylr = my_lin_reg.predict(X_test)\n",
    "\n",
    "\n",
    "\n",
    "#lin_reg = LinearRegression()\n",
    "#lin_reg.fit(X_train,y_train)\n",
    "\n",
    "#y_pred_LR = lin_reg.predict(X_test)"
   ]
  },
  {
   "cell_type": "code",
   "execution_count": 29,
   "metadata": {},
   "outputs": [],
   "source": [
    "from sklearn.metrics import mean_squared_error\n",
    "#print(mean_squared_error(y_pred_LR, y_test))"
   ]
  },
  {
   "cell_type": "code",
   "execution_count": 48,
   "metadata": {},
   "outputs": [],
   "source": [
    "#print(lin_reg.score(X_test,y_test))"
   ]
  },
  {
   "cell_type": "code",
   "execution_count": 30,
   "metadata": {},
   "outputs": [
    {
     "name": "stdout",
     "output_type": "stream",
     "text": [
      "6.8050652023591\n"
     ]
    }
   ],
   "source": [
    "print(mean_squared_error(y_pred_mylr, y_test))"
   ]
  },
  {
   "cell_type": "code",
   "execution_count": 31,
   "metadata": {},
   "outputs": [
    {
     "name": "stdout",
     "output_type": "stream",
     "text": [
      "0.1903678590153385\n"
     ]
    }
   ],
   "source": [
    "from sklearn.metrics import mean_absolute_percentage_error\n",
    "#print(mean_absolute_percentage_error(y_pred_LR, y_test))\n",
    "print(mean_absolute_percentage_error(y_pred_mylr, y_test))"
   ]
  },
  {
   "cell_type": "code",
   "execution_count": 33,
   "metadata": {},
   "outputs": [
    {
     "name": "stdout",
     "output_type": "stream",
     "text": [
      "<class 'pandas.core.frame.DataFrame'>\n",
      "RangeIndex: 1599 entries, 0 to 1598\n",
      "Data columns (total 12 columns):\n",
      " #   Column                Non-Null Count  Dtype  \n",
      "---  ------                --------------  -----  \n",
      " 0   fixed acidity         1599 non-null   float64\n",
      " 1   volatile acidity      1599 non-null   float64\n",
      " 2   citric acid           1599 non-null   float64\n",
      " 3   residual sugar        1599 non-null   float64\n",
      " 4   chlorides             1599 non-null   float64\n",
      " 5   free sulfur dioxide   1599 non-null   float64\n",
      " 6   total sulfur dioxide  1599 non-null   float64\n",
      " 7   density               1599 non-null   float64\n",
      " 8   pH                    1599 non-null   float64\n",
      " 9   sulphates             1599 non-null   float64\n",
      " 10  alcohol               1599 non-null   float64\n",
      " 11  quality               1599 non-null   int64  \n",
      "dtypes: float64(11), int64(1)\n",
      "memory usage: 150.0 KB\n"
     ]
    }
   ],
   "source": [
    "df = pd.read_csv('winequality-red.csv')\n",
    "df.info()"
   ]
  },
  {
   "cell_type": "code",
   "execution_count": 35,
   "metadata": {},
   "outputs": [
    {
     "data": {
      "text/html": [
       "<div>\n",
       "<style scoped>\n",
       "    .dataframe tbody tr th:only-of-type {\n",
       "        vertical-align: middle;\n",
       "    }\n",
       "\n",
       "    .dataframe tbody tr th {\n",
       "        vertical-align: top;\n",
       "    }\n",
       "\n",
       "    .dataframe thead th {\n",
       "        text-align: right;\n",
       "    }\n",
       "</style>\n",
       "<table border=\"1\" class=\"dataframe\">\n",
       "  <thead>\n",
       "    <tr style=\"text-align: right;\">\n",
       "      <th></th>\n",
       "      <th>fixed acidity</th>\n",
       "      <th>volatile acidity</th>\n",
       "      <th>citric acid</th>\n",
       "      <th>residual sugar</th>\n",
       "      <th>chlorides</th>\n",
       "      <th>free sulfur dioxide</th>\n",
       "      <th>total sulfur dioxide</th>\n",
       "      <th>density</th>\n",
       "      <th>pH</th>\n",
       "      <th>sulphates</th>\n",
       "      <th>alcohol</th>\n",
       "      <th>quality</th>\n",
       "    </tr>\n",
       "  </thead>\n",
       "  <tbody>\n",
       "    <tr>\n",
       "      <th>211</th>\n",
       "      <td>8.0</td>\n",
       "      <td>0.725</td>\n",
       "      <td>0.24</td>\n",
       "      <td>2.8</td>\n",
       "      <td>0.083</td>\n",
       "      <td>10.0</td>\n",
       "      <td>62.0</td>\n",
       "      <td>0.99685</td>\n",
       "      <td>3.35</td>\n",
       "      <td>0.56</td>\n",
       "      <td>10.0</td>\n",
       "      <td>6</td>\n",
       "    </tr>\n",
       "    <tr>\n",
       "      <th>1216</th>\n",
       "      <td>7.9</td>\n",
       "      <td>0.570</td>\n",
       "      <td>0.31</td>\n",
       "      <td>2.0</td>\n",
       "      <td>0.079</td>\n",
       "      <td>10.0</td>\n",
       "      <td>79.0</td>\n",
       "      <td>0.99677</td>\n",
       "      <td>3.29</td>\n",
       "      <td>0.69</td>\n",
       "      <td>9.5</td>\n",
       "      <td>6</td>\n",
       "    </tr>\n",
       "    <tr>\n",
       "      <th>7</th>\n",
       "      <td>7.3</td>\n",
       "      <td>0.650</td>\n",
       "      <td>0.00</td>\n",
       "      <td>1.2</td>\n",
       "      <td>0.065</td>\n",
       "      <td>15.0</td>\n",
       "      <td>21.0</td>\n",
       "      <td>0.99460</td>\n",
       "      <td>3.39</td>\n",
       "      <td>0.47</td>\n",
       "      <td>10.0</td>\n",
       "      <td>7</td>\n",
       "    </tr>\n",
       "    <tr>\n",
       "      <th>859</th>\n",
       "      <td>6.8</td>\n",
       "      <td>0.560</td>\n",
       "      <td>0.22</td>\n",
       "      <td>1.8</td>\n",
       "      <td>0.074</td>\n",
       "      <td>15.0</td>\n",
       "      <td>24.0</td>\n",
       "      <td>0.99438</td>\n",
       "      <td>3.40</td>\n",
       "      <td>0.82</td>\n",
       "      <td>11.2</td>\n",
       "      <td>6</td>\n",
       "    </tr>\n",
       "    <tr>\n",
       "      <th>974</th>\n",
       "      <td>8.8</td>\n",
       "      <td>0.330</td>\n",
       "      <td>0.41</td>\n",
       "      <td>5.9</td>\n",
       "      <td>0.073</td>\n",
       "      <td>7.0</td>\n",
       "      <td>13.0</td>\n",
       "      <td>0.99658</td>\n",
       "      <td>3.30</td>\n",
       "      <td>0.62</td>\n",
       "      <td>12.1</td>\n",
       "      <td>7</td>\n",
       "    </tr>\n",
       "  </tbody>\n",
       "</table>\n",
       "</div>"
      ],
      "text/plain": [
       "      fixed acidity  volatile acidity  citric acid  residual sugar  chlorides  \\\n",
       "211             8.0             0.725         0.24             2.8      0.083   \n",
       "1216            7.9             0.570         0.31             2.0      0.079   \n",
       "7               7.3             0.650         0.00             1.2      0.065   \n",
       "859             6.8             0.560         0.22             1.8      0.074   \n",
       "974             8.8             0.330         0.41             5.9      0.073   \n",
       "\n",
       "      free sulfur dioxide  total sulfur dioxide  density    pH  sulphates  \\\n",
       "211                  10.0                  62.0  0.99685  3.35       0.56   \n",
       "1216                 10.0                  79.0  0.99677  3.29       0.69   \n",
       "7                    15.0                  21.0  0.99460  3.39       0.47   \n",
       "859                  15.0                  24.0  0.99438  3.40       0.82   \n",
       "974                   7.0                  13.0  0.99658  3.30       0.62   \n",
       "\n",
       "      alcohol  quality  \n",
       "211      10.0        6  \n",
       "1216      9.5        6  \n",
       "7        10.0        7  \n",
       "859      11.2        6  \n",
       "974      12.1        7  "
      ]
     },
     "execution_count": 35,
     "metadata": {},
     "output_type": "execute_result"
    }
   ],
   "source": [
    "df.sample(5)"
   ]
  },
  {
   "cell_type": "code",
   "execution_count": 36,
   "metadata": {},
   "outputs": [],
   "source": [
    "num_features = []\n",
    "cat_features = []"
   ]
  },
  {
   "cell_type": "code",
   "execution_count": 37,
   "metadata": {},
   "outputs": [
    {
     "data": {
      "image/png": "[encoded data removed]",
      "text/plain": [
       "<Figure size 144x144 with 1 Axes>"
      ]
     },
     "metadata": {
      "needs_background": "light"
     },
     "output_type": "display_data"
    },
    {
     "data": {
      "image/png": "[encoded data removed]",
      "text/plain": [
       "<Figure size 144x144 with 1 Axes>"
      ]
     },
     "metadata": {
      "needs_background": "light"
     },
     "output_type": "display_data"
    },
    {
     "data": {
      "image/png": "[encoded data removed]",
      "text/plain": [
       "<Figure size 144x144 with 1 Axes>"
      ]
     },
     "metadata": {
      "needs_background": "light"
     },
     "output_type": "display_data"
    },
    {
     "data": {
      "image/png": "[encoded data removed]",
      "text/plain": [
       "<Figure size 144x144 with 1 Axes>"
      ]
     },
     "metadata": {
      "needs_background": "light"
     },
     "output_type": "display_data"
    },
    {
     "data": {
      "image/png": "[encoded data removed]",
      "text/plain": [
       "<Figure size 144x144 with 1 Axes>"
      ]
     },
     "metadata": {
      "needs_background": "light"
     },
     "output_type": "display_data"
    },
    {
     "data": {
      "image/png": "[encoded data removed]",
      "text/plain": [
       "<Figure size 144x144 with 1 Axes>"
      ]
     },
     "metadata": {
      "needs_background": "light"
     },
     "output_type": "display_data"
    },
    {
     "data": {
      "image/png": "[encoded data removed]",
      "text/plain": [
       "<Figure size 144x144 with 1 Axes>"
      ]
     },
     "metadata": {
      "needs_background": "light"
     },
     "output_type": "display_data"
    },
    {
     "data": {
      "image/png": "[encoded data removed]",
      "text/plain": [
       "<Figure size 144x144 with 1 Axes>"
      ]
     },
     "metadata": {
      "needs_background": "light"
     },
     "output_type": "display_data"
    },
    {
     "data": {
      "image/png": "[encoded data removed]",
      "text/plain": [
       "<Figure size 144x144 with 1 Axes>"
      ]
     },
     "metadata": {
      "needs_background": "light"
     },
     "output_type": "display_data"
    },
    {
     "data": {
      "image/png": "[encoded data removed]",
      "text/plain": [
       "<Figure size 144x144 with 1 Axes>"
      ]
     },
     "metadata": {
      "needs_background": "light"
     },
     "output_type": "display_data"
    },
    {
     "data": {
      "image/png": "[encoded data removed]",
      "text/plain": [
       "<Figure size 144x144 with 1 Axes>"
      ]
     },
     "metadata": {
      "needs_background": "light"
     },
     "output_type": "display_data"
    },
    {
     "data": {
      "image/png": "[encoded data removed]",
      "text/plain": [
       "<Figure size 144x144 with 1 Axes>"
      ]
     },
     "metadata": {
      "needs_background": "light"
     },
     "output_type": "display_data"
    }
   ],
   "source": [
    "for column in df:\n",
    "    plt.figure(column, figsize=(2,2))\n",
    "    plt.title(column)\n",
    "    if is_numeric_dtype(df[column]):\n",
    "        df[column].plot(kind = 'hist')\n",
    "        num_features.append(column)\n",
    "    elif is_string_dtype(df[column]):\n",
    "        df[column].value_counts()[:10].plot(kind = 'bar')\n",
    "        cat_features.append(column)"
   ]
  },
  {
   "cell_type": "code",
   "execution_count": 39,
   "metadata": {},
   "outputs": [],
   "source": [
    "df['residual sugar'] = np.log2(df['residual sugar'] + 1)\n",
    "df['free sulfur dioxide'] = np.log2(df['residual sugar'] + 1)\n",
    "df['total sulfur dioxide'] = np.log2(df['residual sugar'] + 1)\n",
    "df['alcohol'] = np.log2(df['residual sugar'] + 1)\n"
   ]
  },
  {
   "cell_type": "code",
   "execution_count": 40,
   "metadata": {},
   "outputs": [
    {
     "data": {
      "image/png": "[encoded data removed]",
      "text/plain": [
       "<Figure size 144x144 with 1 Axes>"
      ]
     },
     "metadata": {
      "needs_background": "light"
     },
     "output_type": "display_data"
    },
    {
     "data": {
      "image/png": "[encoded data removed]",
      "text/plain": [
       "<Figure size 144x144 with 1 Axes>"
      ]
     },
     "metadata": {
      "needs_background": "light"
     },
     "output_type": "display_data"
    },
    {
     "data": {
      "image/png": "[encoded data removed]",
      "text/plain": [
       "<Figure size 144x144 with 1 Axes>"
      ]
     },
     "metadata": {
      "needs_background": "light"
     },
     "output_type": "display_data"
    },
    {
     "data": {
      "image/png": "[encoded data removed]",
      "text/plain": [
       "<Figure size 144x144 with 1 Axes>"
      ]
     },
     "metadata": {
      "needs_background": "light"
     },
     "output_type": "display_data"
    },
    {
     "data": {
      "image/png": "[encoded data removed]",
      "text/plain": [
       "<Figure size 144x144 with 1 Axes>"
      ]
     },
     "metadata": {
      "needs_background": "light"
     },
     "output_type": "display_data"
    },
    {
     "data": {
      "image/png": "[encoded data removed]",
      "text/plain": [
       "<Figure size 144x144 with 1 Axes>"
      ]
     },
     "metadata": {
      "needs_background": "light"
     },
     "output_type": "display_data"
    },
    {
     "data": {
      "image/png": "[encoded data removed]",
      "text/plain": [
       "<Figure size 144x144 with 1 Axes>"
      ]
     },
     "metadata": {
      "needs_background": "light"
     },
     "output_type": "display_data"
    },
    {
     "data": {
      "image/png": "[encoded data removed]",
      "text/plain": [
       "<Figure size 144x144 with 1 Axes>"
      ]
     },
     "metadata": {
      "needs_background": "light"
     },
     "output_type": "display_data"
    },
    {
     "data": {
      "image/png": "[encoded data removed]",
      "text/plain": [
       "<Figure size 144x144 with 1 Axes>"
      ]
     },
     "metadata": {
      "needs_background": "light"
     },
     "output_type": "display_data"
    },
    {
     "data": {
      "image/png": "[encoded data removed]",
      "text/plain": [
       "<Figure size 144x144 with 1 Axes>"
      ]
     },
     "metadata": {
      "needs_background": "light"
     },
     "output_type": "display_data"
    },
    {
     "data": {
      "image/png": "[encoded data removed]",
      "text/plain": [
       "<Figure size 144x144 with 1 Axes>"
      ]
     },
     "metadata": {
      "needs_background": "light"
     },
     "output_type": "display_data"
    },
    {
     "data": {
      "image/png": "[encoded data removed]",
      "text/plain": [
       "<Figure size 144x144 with 1 Axes>"
      ]
     },
     "metadata": {
      "needs_background": "light"
     },
     "output_type": "display_data"
    }
   ],
   "source": [
    "for column in df:\n",
    "    plt.figure(column, figsize=(2,2))\n",
    "    plt.title(column)\n",
    "    if is_numeric_dtype(df[column]):\n",
    "        df[column].plot(kind = 'hist')\n",
    "        num_features.append(column)"
   ]
  },
  {
   "cell_type": "code",
   "execution_count": 41,
   "metadata": {},
   "outputs": [
    {
     "data": {
      "text/plain": [
       "<matplotlib.axes._subplots.AxesSubplot at 0x1ab90b5db08>"
      ]
     },
     "execution_count": 41,
     "metadata": {},
     "output_type": "execute_result"
    },
    {
     "data": {
      "image/png": "[encoded data removed]",
      "text/plain": [
       "<Figure size 720x720 with 2 Axes>"
      ]
     },
     "metadata": {
      "needs_background": "light"
     },
     "output_type": "display_data"
    }
   ],
   "source": [
    "plt.figure(column, figsize=(10,10))\n",
    "corr = df.corr()\n",
    "sns.heatmap(corr, cmap = 'GnBu', annot=True)"
   ]
  },
  {
   "cell_type": "code",
   "execution_count": 42,
   "metadata": {},
   "outputs": [],
   "source": [
    "X = df.drop(columns=['quality'], axis=1)\n",
    "y = df['quality']"
   ]
  },
  {
   "cell_type": "code",
   "execution_count": 44,
   "metadata": {},
   "outputs": [
    {
     "data": {
      "text/html": [
       "<div>\n",
       "<style scoped>\n",
       "    .dataframe tbody tr th:only-of-type {\n",
       "        vertical-align: middle;\n",
       "    }\n",
       "\n",
       "    .dataframe tbody tr th {\n",
       "        vertical-align: top;\n",
       "    }\n",
       "\n",
       "    .dataframe thead th {\n",
       "        text-align: right;\n",
       "    }\n",
       "</style>\n",
       "<table border=\"1\" class=\"dataframe\">\n",
       "  <thead>\n",
       "    <tr style=\"text-align: right;\">\n",
       "      <th></th>\n",
       "      <th>fixed acidity</th>\n",
       "      <th>volatile acidity</th>\n",
       "      <th>citric acid</th>\n",
       "      <th>residual sugar</th>\n",
       "      <th>chlorides</th>\n",
       "      <th>free sulfur dioxide</th>\n",
       "      <th>total sulfur dioxide</th>\n",
       "      <th>density</th>\n",
       "      <th>pH</th>\n",
       "      <th>sulphates</th>\n",
       "      <th>alcohol</th>\n",
       "      <th>quality</th>\n",
       "    </tr>\n",
       "  </thead>\n",
       "  <tbody>\n",
       "    <tr>\n",
       "      <th>1594</th>\n",
       "      <td>6.2</td>\n",
       "      <td>0.600</td>\n",
       "      <td>0.08</td>\n",
       "      <td>1.584963</td>\n",
       "      <td>0.090</td>\n",
       "      <td>1.370143</td>\n",
       "      <td>1.370143</td>\n",
       "      <td>0.99490</td>\n",
       "      <td>3.45</td>\n",
       "      <td>0.58</td>\n",
       "      <td>1.370143</td>\n",
       "      <td>5</td>\n",
       "    </tr>\n",
       "    <tr>\n",
       "      <th>1595</th>\n",
       "      <td>5.9</td>\n",
       "      <td>0.550</td>\n",
       "      <td>0.10</td>\n",
       "      <td>1.678072</td>\n",
       "      <td>0.062</td>\n",
       "      <td>1.421195</td>\n",
       "      <td>1.421195</td>\n",
       "      <td>0.99512</td>\n",
       "      <td>3.52</td>\n",
       "      <td>0.76</td>\n",
       "      <td>1.421195</td>\n",
       "      <td>6</td>\n",
       "    </tr>\n",
       "    <tr>\n",
       "      <th>1596</th>\n",
       "      <td>6.3</td>\n",
       "      <td>0.510</td>\n",
       "      <td>0.13</td>\n",
       "      <td>1.722466</td>\n",
       "      <td>0.076</td>\n",
       "      <td>1.444914</td>\n",
       "      <td>1.444914</td>\n",
       "      <td>0.99574</td>\n",
       "      <td>3.42</td>\n",
       "      <td>0.75</td>\n",
       "      <td>1.444914</td>\n",
       "      <td>6</td>\n",
       "    </tr>\n",
       "    <tr>\n",
       "      <th>1597</th>\n",
       "      <td>5.9</td>\n",
       "      <td>0.645</td>\n",
       "      <td>0.12</td>\n",
       "      <td>1.584963</td>\n",
       "      <td>0.075</td>\n",
       "      <td>1.370143</td>\n",
       "      <td>1.370143</td>\n",
       "      <td>0.99547</td>\n",
       "      <td>3.57</td>\n",
       "      <td>0.71</td>\n",
       "      <td>1.370143</td>\n",
       "      <td>5</td>\n",
       "    </tr>\n",
       "    <tr>\n",
       "      <th>1598</th>\n",
       "      <td>6.0</td>\n",
       "      <td>0.310</td>\n",
       "      <td>0.47</td>\n",
       "      <td>2.201634</td>\n",
       "      <td>0.067</td>\n",
       "      <td>1.678808</td>\n",
       "      <td>1.678808</td>\n",
       "      <td>0.99549</td>\n",
       "      <td>3.39</td>\n",
       "      <td>0.66</td>\n",
       "      <td>1.678808</td>\n",
       "      <td>6</td>\n",
       "    </tr>\n",
       "  </tbody>\n",
       "</table>\n",
       "</div>"
      ],
      "text/plain": [
       "      fixed acidity  volatile acidity  citric acid  residual sugar  chlorides  \\\n",
       "1594            6.2             0.600         0.08        1.584963      0.090   \n",
       "1595            5.9             0.550         0.10        1.678072      0.062   \n",
       "1596            6.3             0.510         0.13        1.722466      0.076   \n",
       "1597            5.9             0.645         0.12        1.584963      0.075   \n",
       "1598            6.0             0.310         0.47        2.201634      0.067   \n",
       "\n",
       "      free sulfur dioxide  total sulfur dioxide  density    pH  sulphates  \\\n",
       "1594             1.370143              1.370143  0.99490  3.45       0.58   \n",
       "1595             1.421195              1.421195  0.99512  3.52       0.76   \n",
       "1596             1.444914              1.444914  0.99574  3.42       0.75   \n",
       "1597             1.370143              1.370143  0.99547  3.57       0.71   \n",
       "1598             1.678808              1.678808  0.99549  3.39       0.66   \n",
       "\n",
       "       alcohol  quality  \n",
       "1594  1.370143        5  \n",
       "1595  1.421195        6  \n",
       "1596  1.444914        6  \n",
       "1597  1.370143        5  \n",
       "1598  1.678808        6  "
      ]
     },
     "execution_count": 44,
     "metadata": {},
     "output_type": "execute_result"
    }
   ],
   "source": [
    "df.tail()"
   ]
  },
  {
   "cell_type": "code",
   "execution_count": 45,
   "metadata": {},
   "outputs": [],
   "source": [
    "X_train, X_test, y_train, y_test = train_test_split(X, y, test_size=0.6,random_state=23)"
   ]
  },
  {
   "cell_type": "code",
   "execution_count": 46,
   "metadata": {},
   "outputs": [
    {
     "name": "stdout",
     "output_type": "stream",
     "text": [
      "[-35.86860343  -2.24754698  -1.13102615  -6.98109184  -0.36061196\n",
      "  -5.99131823  -5.99131823  -4.31003039 -14.35944427  -2.89949074\n",
      "  -5.99131823  -4.32558453]\n",
      "[-35.17537671  -2.20605613  -1.10729115  -6.83921407  -0.35366571\n",
      "  -5.87472302  -5.87472302  -4.23046083 -14.09646115  -2.84675104\n",
      "  -5.87472302  -4.2457798 ]\n",
      "[-34.49547722  -2.16536266  -1.0840126   -6.70006362  -0.34685298\n",
      "  -5.76036899  -5.76036899  -4.15242061 -13.83853235  -2.79502505\n",
      "  -5.76036899  -4.16750891]\n",
      "[-33.82864876  -2.12545122  -1.06118173  -6.56358806  -0.34017121\n",
      "  -5.64821304  -5.64821304  -4.07588032 -13.5855607   -2.74429328\n",
      "  -5.64821304  -4.0907424 ]\n",
      "[-33.17464005  -2.0863068   -1.03878993  -6.42973597  -0.33361787\n",
      "  -5.53821292  -5.53821292  -4.00081114 -13.3374509   -2.69453662\n",
      "  -5.53821292  -4.01545133]\n",
      "[-32.53320465  -2.04791463  -1.01682877  -6.29845691  -0.3271905\n",
      "  -5.43032719  -5.43032719  -3.92718477 -13.0941095   -2.64573632\n",
      "  -5.43032719  -3.94160734]\n",
      "[-31.90410085  -2.01026026  -0.99528996  -6.16970143  -0.32088667\n",
      "  -5.32451519  -5.32451519  -3.85497349 -12.85544483  -2.597874\n",
      "  -5.32451519  -3.86918262]\n",
      "[-31.28709158  -1.97332952  -0.97416538  -6.04342101  -0.31470401\n",
      "  -5.22073707  -5.22073707  -3.78415009 -12.62136698  -2.55093163\n",
      "  -5.22073707  -3.79814987]\n",
      "[-30.68194435  -1.93710847  -0.95344708  -5.91956807  -0.30864019\n",
      "  -5.11895373  -5.11895373  -3.7146879  -12.39178777  -2.50489152\n",
      "  -5.11895373  -3.72848235]\n",
      "[-30.08843111  -1.9015835   -0.93312724  -5.79809595  -0.30269293\n",
      "  -5.01912681  -5.01912681  -3.64656073 -12.16662073  -2.45973632\n",
      "  -5.01912681  -3.66015381]\n",
      "[-29.50632823  -1.8667412   -0.9131982   -5.67895887  -0.29685999\n",
      "  -4.92121871  -4.92121871  -3.57974293 -11.94578103  -2.41544903\n",
      "  -4.92121871  -3.5931385 ]\n",
      "[-28.93541633  -1.83256846  -0.89365245  -5.56211194  -0.29113916\n",
      "  -4.82519253  -4.82519253  -3.51420934 -11.72918549  -2.37201296\n",
      "  -4.82519253  -3.52741118]\n",
      "[-28.3754803   -1.79905241  -0.87448262  -5.44751115  -0.28552829\n",
      "  -4.73101212  -4.73101212  -3.44993525 -11.51675252  -2.32941175\n",
      "  -4.73101212  -3.4629471 ]\n",
      "[-27.82630913  -1.76618042  -0.85568149  -5.33511332  -0.28002528\n",
      "  -4.63864197  -4.63864197  -3.38689646 -11.30840209  -2.28762934\n",
      "  -4.63864197  -3.39972196]\n",
      "[-27.28769588  -1.73394011  -0.83724196  -5.22487608  -0.27462803\n",
      "  -4.54804729  -4.54804729  -3.32506921 -11.10405573  -2.24665001\n",
      "  -4.54804729  -3.33771195]\n",
      "[-26.75943759  -1.70231934  -0.81915708  -5.11675792  -0.26933453\n",
      "  -4.45919395  -4.45919395  -3.26443023 -10.90363647  -2.2064583\n",
      "  -4.45919395  -3.27689371]\n",
      "[-26.24133518  -1.6713062   -0.80142004  -5.01071808  -0.26414278\n",
      "  -4.37204847  -4.37204847  -3.20495667 -10.70706879  -2.16703907\n",
      "  -4.37204847  -3.21724432]\n",
      "[-25.73319344  -1.64088901  -0.78402416  -4.90671663  -0.25905082\n",
      "  -4.28657802  -4.28657802  -3.14662612 -10.51427868  -2.12837749\n",
      "  -4.28657802  -3.15874133]\n",
      "[-25.23482086  -1.61105631  -0.76696286  -4.80471436  -0.25405673\n",
      "  -4.2027504   -4.2027504   -3.08941661 -10.3251935   -2.09045897\n",
      "  -4.2027504   -3.10136269]\n",
      "[-24.74602966  -1.58179686  -0.75022972  -4.70467286  -0.24915863\n",
      "  -4.12053403  -4.12053403  -3.03330658 -10.13974204  -2.05326925\n",
      "  -4.12053403  -3.04508679]\n",
      "[-24.26663564  -1.55309965  -0.73381844  -4.60655442  -0.24435468\n",
      "  -4.03989794  -4.03989794  -2.97827491  -9.95785443  -2.0167943\n",
      "  -4.03989794  -2.98989242]\n",
      "[-23.79645814  -1.52495386  -0.71772282  -4.51032208  -0.23964307\n",
      "  -3.96081174  -3.96081174  -2.92430087  -9.77946217  -1.98102039\n",
      "  -3.96081174  -2.9357588 ]\n",
      "[-23.33532     -1.4973489   -0.70193679  -4.41593958  -0.23502202\n",
      "  -3.88324565  -3.88324565  -2.87136411  -9.60449807  -1.94593404\n",
      "  -3.88324565  -2.88266553]\n",
      "[-22.88304744  -1.47027437  -0.68645441  -4.32337136  -0.23048978\n",
      "  -3.80717043  -3.80717043  -2.8194447   -9.43289621  -1.91152203\n",
      "  -3.80717043  -2.83059263]\n",
      "[-22.43947003  -1.44372007  -0.67126983  -4.23258254  -0.22604467\n",
      "  -3.73255743  -3.73255743  -2.76852309  -9.26459198  -1.87777141\n",
      "  -3.73255743  -2.77952046]\n",
      "[-22.00442062  -1.417676    -0.65637734  -4.14353892  -0.22168498\n",
      "  -3.65937853  -3.65937853  -2.71858009  -9.09952196  -1.84466944\n",
      "  -3.65937853  -2.72942979]\n",
      "[-21.57773525  -1.39213236  -0.64177131  -4.05620694  -0.2174091\n",
      "  -3.58760618  -3.58760618  -2.66959689  -8.937624    -1.81220367\n",
      "  -3.58760618  -2.68030176]\n",
      "[-21.15925315  -1.36707951  -0.62744624  -3.9705537   -0.2132154\n",
      "  -3.51721333  -3.51721333  -2.62155503  -8.7788371   -1.78036187\n",
      "  -3.51721333  -2.63211785]\n",
      "[-20.74881661  -1.34250804  -0.61339673  -3.88654693  -0.20910231\n",
      "  -3.44817346  -3.44817346  -2.57443643  -8.62310147  -1.74913204\n",
      "  -3.44817346  -2.58485993]\n",
      "[-20.34627097  -1.31840868  -0.59961748  -3.80415498  -0.20506827\n",
      "  -3.38046056  -3.38046056  -2.52822333  -8.47035845  -1.71850241\n",
      "  -3.38046056  -2.53851018]\n",
      "[-19.95146454  -1.29477235  -0.5861033   -3.7233468   -0.20111176\n",
      "  -3.31404912  -3.31404912  -2.48289832  -8.3205505   -1.68846145\n",
      "  -3.31404912  -2.49305115]\n",
      "[-19.56424853  -1.27159017  -0.57284909  -3.64409195  -0.1972313\n",
      "  -3.24891413  -3.24891413  -2.43844434  -8.17362121  -1.65899784\n",
      "  -3.24891413  -2.44846571]\n",
      "[-19.18447702  -1.24885339  -0.55984985  -3.56636057  -0.19342543\n",
      "  -3.18503104  -3.18503104  -2.39484464  -8.02951523  -1.63010048\n",
      "  -3.18503104  -2.40473708]\n",
      "[-18.81200692  -1.22655345  -0.54710067  -3.49012337  -0.1896927\n",
      "  -3.12237579  -3.12237579  -2.35208279  -7.8881783   -1.60175849\n",
      "  -3.12237579  -2.36184878]\n",
      "[-18.44669784  -1.20468196  -0.53459677  -3.41535162  -0.18603172\n",
      "  -3.06092477  -3.06092477  -2.31014269  -7.74955717  -1.57396119\n",
      "  -3.06092477  -2.31978466]\n",
      "[-18.08841214  -1.18323068  -0.52233341  -3.34201716  -0.1824411\n",
      "  -3.00065484  -3.00065484  -2.26900855  -7.61359964  -1.54669811\n",
      "  -3.00065484  -2.27852887]\n",
      "[-17.73701479  -1.16219153  -0.51030597  -3.27009235  -0.1789195\n",
      "  -2.94154329  -2.94154329  -2.22866486  -7.48025451  -1.51995898\n",
      "  -2.94154329  -2.23806587]\n",
      "[-17.39237337  -1.14155659  -0.49850993  -3.1995501   -0.17546558\n",
      "  -2.88356784  -2.88356784  -2.18909644  -7.34947155  -1.49373372\n",
      "  -2.88356784  -2.19838043]\n",
      "[-17.05435801  -1.12131809  -0.48694082  -3.13036383  -0.17207804\n",
      "  -2.82670667  -2.82670667  -2.15028837  -7.22120151  -1.46801247\n",
      "  -2.82670667  -2.15945759]\n",
      "[-16.72284133  -1.10146841  -0.4755943   -3.06250747  -0.16875561\n",
      "  -2.77093835  -2.77093835  -2.11222605  -7.09539609  -1.44278552\n",
      "  -2.77093835  -2.1212827 ]\n",
      "[-16.39769839  -1.08200007  -0.46446607  -2.99595545  -0.16549703\n",
      "  -2.71624187  -2.71624187  -2.07489514  -6.9720079   -1.41804338\n",
      "  -2.71624187  -2.08384137]\n",
      "[-16.07880668  -1.06290574  -0.45355194  -2.9306827   -0.16230109\n",
      "  -2.66259663  -2.66259663  -2.03828157  -6.85099047  -1.39377672\n",
      "  -2.66259663  -2.04711951]\n",
      "[-15.76604601  -1.04417824  -0.4428478   -2.86666463  -0.15916657\n",
      "  -2.60998242  -2.60998242  -2.00237156  -6.73229823  -1.36997642\n",
      "  -2.60998242  -2.01110329]\n",
      "[-15.45929853  -1.02581051  -0.43234961  -2.80387712  -0.15609229\n",
      "  -2.55837941  -2.55837941  -1.96715157  -6.61588649  -1.34663349\n",
      "  -2.55837941  -1.97577913]\n",
      "[-15.15844864  -1.00779562  -0.42205341  -2.74229651  -0.1530771\n",
      "  -2.50776817  -2.50776817  -1.93260836  -6.50171139  -1.32373915\n",
      "  -2.50776817  -1.94113373]\n",
      "[-14.86338296  -0.99012682  -0.41195532  -2.6818996   -0.15011985\n",
      "  -2.45812963  -2.45812963  -1.8987289   -6.38972995  -1.30128478\n",
      "  -2.45812963  -1.90715406]\n",
      "[-14.57399029  -0.97279743  -0.40205152  -2.62266363  -0.14721945\n",
      "  -2.4094451   -2.4094451   -1.86550043  -6.2799      -1.27926192\n",
      "  -2.4094451   -1.8738273 ]\n",
      "[-14.29016159  -0.95580093  -0.39233829  -2.56456629  -0.14437478\n",
      "  -2.36169623  -2.36169623  -1.83291045  -6.17218016  -1.25766227\n",
      "  -2.36169623  -1.84114091]\n",
      "[-14.01178988  -0.93913092  -0.38281196  -2.5075857   -0.14158479\n",
      "  -2.31486503  -2.31486503  -1.80094667  -6.06652989  -1.23647769\n",
      "  -2.31486503  -1.80908258]\n",
      "[-13.73877027  -0.92278114  -0.37346894  -2.45170037  -0.13884842\n",
      "  -2.26893388  -2.26893388  -1.76959707  -5.96290939  -1.21570021\n",
      "  -2.26893388  -1.77764023]\n",
      "[-13.47099986  -0.90674542  -0.3643057   -2.39688925  -0.13616463\n",
      "  -2.22388545  -2.22388545  -1.73884982  -5.86127965  -1.195322\n",
      "  -2.22388545  -1.74680202]\n",
      "[-13.20837775  -0.89101772  -0.35531879  -2.3431317   -0.13353243\n",
      "  -2.17970279  -2.17970279  -1.70869336  -5.76160239  -1.17533539\n",
      "  -2.17970279  -1.71655634]\n",
      "[-12.95080496  -0.87559212  -0.34650482  -2.29040747  -0.13095081\n",
      "  -2.13636925  -2.13636925  -1.67911632  -5.66384008  -1.15573284\n",
      "  -2.13636925  -1.68689179]\n",
      "[-12.69818443  -0.86046282  -0.33786046  -2.23869668  -0.12841881\n",
      "  -2.09386851  -2.09386851  -1.65010757  -5.56795591  -1.13650698\n",
      "  -2.09386851  -1.65779722]\n",
      "[-12.45042096  -0.84562412  -0.32938245  -2.18797985  -0.12593547\n",
      "  -2.05218455  -2.05218455  -1.62165619  -5.47391377  -1.11765057\n",
      "  -2.05218455  -1.62926165]\n",
      "[-12.20742117  -0.83107043  -0.3210676   -2.13823788  -0.12349985\n",
      "  -2.01130168  -2.01130168  -1.59375144  -5.38167825  -1.09915649\n",
      "  -2.01130168  -1.60127434]\n",
      "[-11.96909348  -0.81679627  -0.31291276  -2.08945203  -0.12111104\n",
      "  -1.9712045   -1.9712045   -1.56638284  -5.29121463  -1.08101779\n",
      "  -1.9712045   -1.57382476]\n",
      "[-11.73534809  -0.80279628  -0.30491487  -2.04160392  -0.11876814\n",
      "  -1.9318779   -1.9318779   -1.53954007  -5.20248884  -1.06322763\n",
      "  -1.9318779   -1.54690256]\n",
      "[-11.5060969   -0.78906518  -0.2970709   -1.99467551  -0.11647027\n",
      "  -1.89330707  -1.89330707  -1.51321303  -5.11546746  -1.04577932\n",
      "  -1.89330707  -1.5204976 ]\n",
      "[-11.28125351  -0.77559779  -0.28937789  -1.94864913  -0.11421655\n",
      "  -1.85547747  -1.85547747  -1.48739179  -5.03011775  -1.02866627\n",
      "  -1.85547747  -1.49459996]\n",
      "[-11.06073319  -0.76238906  -0.28183295  -1.90350744  -0.11200615\n",
      "  -1.81837487  -1.81837487  -1.46206664  -4.94640755  -1.01188206\n",
      "  -1.81837487  -1.46919986]\n",
      "[-10.84445284  -0.74943401  -0.27443323  -1.85923344  -0.10983822\n",
      "  -1.78198528  -1.78198528  -1.43722804  -4.86430536  -0.99542035\n",
      "  -1.78198528  -1.44428775]\n",
      "[-10.63233093  -0.73672776  -0.26717593  -1.81581043  -0.10771196\n",
      "  -1.746295    -1.746295    -1.41286664  -4.78378026  -0.97927494\n",
      "  -1.746295    -1.41985424]\n",
      "[-10.42428754  -0.72426552  -0.26005832  -1.77322207  -0.10562656\n",
      "  -1.71129059  -1.71129059  -1.38897326  -4.70480193  -0.96343976\n",
      "  -1.71129059  -1.39589014]\n",
      "[-10.22024426  -0.71204262  -0.25307771  -1.7314523   -0.10358123\n",
      "  -1.67695885  -1.67695885  -1.3655389   -4.62734064  -0.94790884\n",
      "  -1.67695885  -1.37238642]\n",
      "[-10.02012419  -0.70005445  -0.24623147  -1.69048539  -0.10157521\n",
      "  -1.64328687  -1.64328687  -1.34255475  -4.55136722  -0.93267633\n",
      "  -1.64328687  -1.34933424]\n",
      "[-9.82385191 -0.68829649 -0.23951702 -1.65030591 -0.09960774 -1.61026194\n",
      " -1.61026194 -1.32001214 -4.47685308 -0.9177365  -1.61026194 -1.3267249 ]\n",
      "[-9.63135345 -0.67676431 -0.23293182 -1.61089872 -0.09767807 -1.57787165\n",
      " -1.57787165 -1.29790259 -4.40377016 -0.90308372 -1.57787165 -1.3045499 ]\n",
      "[-9.44255626 -0.66545359 -0.22647338 -1.57224898 -0.09578549 -1.54610378\n",
      " -1.54610378 -1.27621777 -4.33209094 -0.88871246 -1.54610378 -1.28280089]\n",
      "[-9.25738919 -0.65436006 -0.22013927 -1.53434211 -0.09392928 -1.51494637\n",
      " -1.51494637 -1.25494952 -4.26178845 -0.87461733 -1.51494637 -1.26146968]\n",
      "[-9.07578246 -0.64347955 -0.21392711 -1.49716384 -0.09210873 -1.48438769\n",
      " -1.48438769 -1.23408983 -4.19283622 -0.86079301 -1.48438769 -1.24054823]\n",
      "[-8.89766762 -0.63280796 -0.20783454 -1.46070017 -0.09032317 -1.45441622\n",
      " -1.45441622 -1.21363085 -4.12520828 -0.84723429 -1.45441622 -1.22002868]\n",
      "[-8.72297754 -0.62234127 -0.20185926 -1.42493736 -0.08857192 -1.42502068\n",
      " -1.42502068 -1.19356487 -4.05887918 -0.83393607 -1.42502068 -1.19990328]\n",
      "[-8.55164638 -0.61207556 -0.19599903 -1.38986193 -0.08685433 -1.39619\n",
      " -1.39619    -1.17388434 -3.99382396 -0.82089334 -1.39619    -1.18016448]\n",
      "[-8.38360958 -0.60200694 -0.19025163 -1.35546067 -0.08516973 -1.36791331\n",
      " -1.36791331 -1.15458185 -3.93001812 -0.80810119 -1.36791331 -1.16080483]\n",
      "[-8.21880381 -0.59213164 -0.18461489 -1.32172061 -0.08351751 -1.34017997\n",
      " -1.34017997 -1.13565013 -3.86743765 -0.79555481 -1.34017997 -1.14181705]\n",
      "[-8.05716694 -0.58244594 -0.17908668 -1.28862906 -0.08189704 -1.31297954\n",
      " -1.31297954 -1.11708205 -3.80605899 -0.78324946 -1.31297954 -1.12319398]\n",
      "[-7.89863807 -0.57294619 -0.17366492 -1.25617354 -0.0803077  -1.28630176\n",
      " -1.28630176 -1.09887062 -3.74585903 -0.77118051 -1.28630176 -1.10492862]\n",
      "[-7.74315744 -0.56362882 -0.16834756 -1.22434183 -0.07874891 -1.26013659\n",
      " -1.26013659 -1.08100899 -3.68681512 -0.75934343 -1.26013659 -1.08701409]\n",
      "[-7.59066645 -0.55449032 -0.1631326  -1.19312193 -0.07722006 -1.23447417\n",
      " -1.23447417 -1.06349044 -3.62890504 -0.74773375 -1.23447417 -1.06944365]\n",
      "[-7.44110764 -0.54552725 -0.15801806 -1.16250208 -0.07572059 -1.20930485\n",
      " -1.20930485 -1.04630836 -3.57210698 -0.73634709 -1.20930485 -1.05221067]\n",
      "[-7.29442463 -0.53673625 -0.15300201 -1.13247074 -0.07424994 -1.18461914\n",
      " -1.18461914 -1.02945629 -3.51639958 -0.72517919 -1.18461914 -1.03530868]\n",
      "[-7.15056214 -0.528114   -0.14808257 -1.10301661 -0.07280754 -1.16040774\n",
      " -1.16040774 -1.01292788 -3.46176185 -0.71422582 -1.16040774 -1.01873131]\n",
      "[-7.00946594 -0.51965726 -0.14325787 -1.07412859 -0.07139285 -1.13666155\n",
      " -1.13666155 -0.99671692 -3.40817325 -0.70348286 -1.13666155 -1.00247233]\n",
      "[-6.87108287 -0.51136285 -0.13852609 -1.04579579 -0.07000535 -1.1133716\n",
      " -1.1133716  -0.98081729 -3.35561361 -0.69294627 -1.1133716  -0.9865256 ]\n",
      "[-6.73536076 -0.50322764 -0.13388545 -1.01800755 -0.06864451 -1.09052914\n",
      " -1.09052914 -0.96522302 -3.30406313 -0.68261209 -1.09052914 -0.97088513]\n",
      "[-6.60224845 -0.49524858 -0.12933419 -0.99075338 -0.06730981 -1.06812556\n",
      " -1.06812556 -0.94992824 -3.25350243 -0.67247642 -1.06812556 -0.95554502]\n",
      "[-6.47169579 -0.48742267 -0.12487061 -0.96402303 -0.06600076 -1.04615242\n",
      " -1.04615242 -0.93492718 -3.20391247 -0.66253544 -1.04615242 -0.94049952]\n",
      "[-6.34365355 -0.47974696 -0.120493   -0.93780643 -0.06471685 -1.02460146\n",
      " -1.02460146 -0.92021421 -3.1552746  -0.65278541 -1.02460146 -0.92574294]\n",
      "[-6.21807348 -0.47221856 -0.11619972 -0.9120937  -0.06345762 -1.00346454\n",
      " -1.00346454 -0.90578378 -3.1075705  -0.64322267 -1.00346454 -0.91126975]\n",
      "[-6.09490825 -0.46483465 -0.11198914 -0.88687515 -0.06222258 -0.98273372\n",
      " -0.98273372 -0.89163046 -3.06078224 -0.6338436  -0.98273372 -0.89707448]\n",
      "[-5.97411144 -0.45759244 -0.10785968 -0.86214128 -0.06101127 -0.96240119\n",
      " -0.96240119 -0.87774892 -3.01489221 -0.62464469 -0.96240119 -0.8831518 ]\n",
      "[-5.85563751 -0.4504892  -0.10380979 -0.83788278 -0.05982322 -0.94245929\n",
      " -0.94245929 -0.86413395 -2.96988313 -0.61562246 -0.94245929 -0.86949647]\n",
      "[-5.73944181 -0.44352228 -0.09983791 -0.81409051 -0.05865801 -0.92290051\n",
      " -0.92290051 -0.85078041 -2.92573807 -0.60677352 -0.92290051 -0.85610334]\n",
      "[-5.62548055 -0.43668905 -0.09594257 -0.7907555  -0.05751518 -0.90371748\n",
      " -0.90371748 -0.83768328 -2.88244043 -0.59809454 -0.90371748 -0.84296739]\n",
      "[-5.51371076 -0.42998693 -0.09212228 -0.76786897 -0.0563943  -0.88490299\n",
      " -0.88490299 -0.82483763 -2.83997391 -0.58958226 -0.88490299 -0.83008365]\n",
      "[-5.40409032 -0.42341341 -0.08837561 -0.74542229 -0.05529496 -0.86644995\n",
      " -0.86644995 -0.81223863 -2.79832253 -0.58123346 -0.86644995 -0.8174473 ]\n",
      "[-5.29657791 -0.41696602 -0.08470113 -0.72340701 -0.05421674 -0.84835141\n",
      " -0.84835141 -0.79988153 -2.75747063 -0.573045   -0.84835141 -0.80505356]\n",
      "[-5.19113301 -0.41064233 -0.08109747 -0.70181483 -0.05315924 -0.83060055\n",
      " -0.83060055 -0.78776169 -2.71740284 -0.56501381 -0.83060055 -0.79289777]\n",
      "[-5.08771587 -0.40443996 -0.07756326 -0.68063762 -0.05212204 -0.81319069\n",
      " -0.81319069 -0.77587454 -2.67810408 -0.55713685 -0.81319069 -0.78097537]\n"
     ]
    }
   ],
   "source": [
    "my_lin_reg = MyGradientLinearRegression()\n",
    "my_lin_reg.fit(X_train, y_train).get_losses()\n",
    "\n",
    "y_pred_mylr = my_lin_reg.predict(X_test)\n"
   ]
  },
  {
   "cell_type": "code",
   "execution_count": 47,
   "metadata": {},
   "outputs": [
    {
     "name": "stdout",
     "output_type": "stream",
     "text": [
      "1.5605207349688819\n"
     ]
    }
   ],
   "source": [
    "print(mean_squared_error(y_pred_mylr, y_test))"
   ]
  },
  {
   "cell_type": "code",
   "execution_count": 48,
   "metadata": {},
   "outputs": [
    {
     "name": "stdout",
     "output_type": "stream",
     "text": [
      "0.18848477187472532\n"
     ]
    }
   ],
   "source": [
    "print(mean_absolute_percentage_error(y_pred_mylr, y_test))"
   ]
  },
  {
   "cell_type": "code",
   "execution_count": 49,
   "metadata": {},
   "outputs": [],
   "source": [
    "def rounder(array):\n",
    "    rounded_array=[]\n",
    "    for i in array:\n",
    "        rounded_array.append(int(i))\n",
    "    return np.array(rounded_array)"
   ]
  },
  {
   "cell_type": "code",
   "execution_count": 50,
   "metadata": {},
   "outputs": [
    {
     "name": "stdout",
     "output_type": "stream",
     "text": [
      "The RMSE of sklearn model: 1.4814829282400344\n"
     ]
    }
   ],
   "source": [
    "ols_pred=my_lin_reg.predict(X_test)\n",
    "rounded_pred_ols=rounder(ols_pred)\n",
    "print(f'The RMSE of sklearn model: {np.sqrt(mean_squared_error(rounded_pred_ols,y_test))}')"
   ]
  },
  {
   "cell_type": "code",
   "execution_count": null,
   "metadata": {},
   "outputs": [],
   "source": []
  }
 ],
 "metadata": {
  "kernelspec": {
   "display_name": "Python 3",
   "language": "python",
   "name": "python3"
  },
  "language_info": {
   "codemirror_mode": {
    "name": "ipython",
    "version": 3
   },
   "file_extension": ".py",
   "mimetype": "text/x-python",
   "name": "python",
   "nbconvert_exporter": "python",
   "pygments_lexer": "ipython3",
   "version": "3.7.6"
  }
 },
 "nbformat": 4,
 "nbformat_minor": 4
}
